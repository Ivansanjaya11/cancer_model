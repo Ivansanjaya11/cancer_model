{
 "cells": [
  {
   "cell_type": "markdown",
   "id": "d0a42df2",
   "metadata": {
    "tags": []
   },
   "source": [
    "# Input files and data cleaning\n",
    "First of all, we will designate the input and output directory for the source files. When we download the PubMed articles, the files were downloaded as .txt files. We will convert it into xlsx files for every cancer types."
   ]
  },
  {
   "cell_type": "code",
   "execution_count": 1,
   "id": "9226449c",
   "metadata": {
    "tags": []
   },
   "outputs": [],
   "source": [
    "import pandas as pd\n",
    "import numpy as np\n",
    "import re\n",
    "import nltk\n",
    "import matplotlib.pyplot as plt\n",
    "\n",
    "pd.options.display.max_colwidth = 200"
   ]
  },
  {
   "cell_type": "code",
   "execution_count": 2,
   "id": "e38ef78a",
   "metadata": {
    "tags": []
   },
   "outputs": [],
   "source": [
    "# Breast cancer\n",
    "input_txt_breast_cancer = 'source_files_txt/breast_cancer.txt'\n",
    "output_xlsx_breast_cancer = 'source_files_xlsx/breast_cancer.xlsx'\n",
    "\n",
    "# lung cancer\n",
    "input_txt_lung_cancer = 'source_files_txt/lung_cancer.txt'\n",
    "output_xlsx_lung_cancer = 'source_files_xlsx/lung_cancer.xlsx'\n",
    "\n",
    "# Colorectal cancer\n",
    "input_txt_colorectal_cancer = 'source_files_txt/colorectal_cancer.txt'\n",
    "output_xlsx_colorectal_cancer = 'source_files_xlsx/colorectal_cancer.xlsx'\n",
    "\n",
    "# Prostate cancer\n",
    "input_txt_prostate_cancer = 'source_files_txt/prostate_cancer.txt'\n",
    "output_xlsx_prostate_cancer = 'source_files_xlsx/prostate_cancer.xlsx'\n",
    "\n",
    "# Stomach cancer\n",
    "input_txt_stomach_cancer = 'source_files_txt/stomach_cancer.txt'\n",
    "output_xlsx_stomach_cancer = 'source_files_xlsx/stomach_cancer.xlsx'\n",
    "\n",
    "# Liver cancer\n",
    "input_txt_liver_cancer = 'source_files_txt/liver_cancer.txt'\n",
    "output_xlsx_liver_cancer = 'source_files_xlsx/liver_cancer.xlsx'\n",
    "\n",
    "# Cervix cancer\n",
    "input_txt_cervix_cancer = 'source_files_txt/cervix_cancer.txt'\n",
    "output_xlsx_cervix_cancer = 'source_files_xlsx/cervix_cancer.xlsx'\n",
    "\n",
    "# Oesophagus cancer\n",
    "input_txt_oesophagus_cancer = 'source_files_txt/oesophagus_cancer.txt'\n",
    "output_xlsx_oesophagus_cancer = 'source_files_xlsx/oesophagus_cancer.xlsx'\n",
    "\n",
    "# Thyroid cancer\n",
    "input_txt_thyroid_cancer = 'source_files_txt/thyroid_cancer.txt'\n",
    "output_xlsx_thyroid_cancer = 'source_files_xlsx/thyroid_cancer.xlsx'\n",
    "\n",
    "# Bladder cancer\n",
    "input_txt_bladder_cancer = 'source_files_txt/bladder_cancer.txt'\n",
    "output_xlsx_bladder_cancer = 'source_files_xlsx/bladder_cancer.xlsx'\n",
    "\n",
    "input_txt_files = [\n",
    "    input_txt_breast_cancer, input_txt_lung_cancer, input_txt_colorectal_cancer, input_txt_prostate_cancer,\n",
    "    input_txt_stomach_cancer, input_txt_liver_cancer, input_txt_cervix_cancer, input_txt_oesophagus_cancer,\n",
    "    input_txt_thyroid_cancer, input_txt_bladder_cancer\n",
    "]\n",
    "\n",
    "output_xlsx_files = [\n",
    "    output_xlsx_breast_cancer, output_xlsx_lung_cancer, output_xlsx_colorectal_cancer, output_xlsx_prostate_cancer,\n",
    "    output_xlsx_stomach_cancer, output_xlsx_liver_cancer, output_xlsx_cervix_cancer, output_xlsx_oesophagus_cancer,\n",
    "    output_xlsx_thyroid_cancer, output_xlsx_bladder_cancer\n",
    "]"
   ]
  },
  {
   "cell_type": "code",
   "execution_count": 3,
   "id": "26a23b2a",
   "metadata": {
    "tags": []
   },
   "outputs": [
    {
     "name": "stdout",
     "output_type": "stream",
     "text": [
      "source_files_txt/breast_cancer.txt\n",
      "the number of articles in source_files_txt/breast_cancer.txt is 10000\n",
      "\n",
      "source_files_txt/lung_cancer.txt\n",
      "the number of articles in source_files_txt/lung_cancer.txt is 10000\n",
      "\n",
      "source_files_txt/colorectal_cancer.txt\n",
      "the number of articles in source_files_txt/colorectal_cancer.txt is 10000\n",
      "\n",
      "source_files_txt/prostate_cancer.txt\n",
      "the number of articles in source_files_txt/prostate_cancer.txt is 10000\n",
      "\n",
      "source_files_txt/stomach_cancer.txt\n",
      "the number of articles in source_files_txt/stomach_cancer.txt is 10000\n",
      "\n",
      "source_files_txt/liver_cancer.txt\n",
      "the number of articles in source_files_txt/liver_cancer.txt is 10000\n",
      "\n",
      "source_files_txt/cervix_cancer.txt\n",
      "the number of articles in source_files_txt/cervix_cancer.txt is 10000\n",
      "\n",
      "source_files_txt/oesophagus_cancer.txt\n",
      "the number of articles in source_files_txt/oesophagus_cancer.txt is 10000\n",
      "\n",
      "source_files_txt/thyroid_cancer.txt\n",
      "the number of articles in source_files_txt/thyroid_cancer.txt is 10000\n",
      "\n",
      "source_files_txt/bladder_cancer.txt\n",
      "the number of articles in source_files_txt/bladder_cancer.txt is 10000\n",
      "\n"
     ]
    }
   ],
   "source": [
    "PMID_index_list_of_list = []\n",
    "lines_array = []\n",
    "\n",
    "for input_file in input_txt_files:\n",
    "    PMID_index_list = []\n",
    "    with open(input_file, 'r', encoding='utf-8') as f:\n",
    "        lines = f.readlines()\n",
    "    lines_array.append(lines)\n",
    "    \n",
    "    article_count = 0\n",
    "    index = 0\n",
    "    \n",
    "    for line in lines:\n",
    "        if line.startswith('PMID'):\n",
    "            PMID_index_list.append(index)\n",
    "            article_count += 1\n",
    "        index +=1\n",
    "    PMID_index_list.append(index)\n",
    "    PMID_index_list_of_list.append(PMID_index_list)\n",
    "    \n",
    "    print(input_file)\n",
    "    print(f\"the number of articles in {input_file} is {article_count}\\n\")"
   ]
  },
  {
   "cell_type": "code",
   "execution_count": 4,
   "id": "784f0d6c",
   "metadata": {
    "tags": []
   },
   "outputs": [],
   "source": [
    "articles_list_of_list = []\n",
    "for one_cancer_type in range(len(PMID_index_list_of_list)):\n",
    "    articles_list = []\n",
    "    for i in range(article_count):\n",
    "        for one_line in range(PMID_index_list_of_list[one_cancer_type][i], PMID_index_list_of_list[one_cancer_type][i+1]):\n",
    "            articles_list.append(lines_array[one_cancer_type][one_line])\n",
    "    articles_list_of_list.append(articles_list)"
   ]
  },
  {
   "cell_type": "code",
   "execution_count": 5,
   "id": "f0082f8a",
   "metadata": {
    "tags": []
   },
   "outputs": [],
   "source": [
    "PMID_list_of_list = []\n",
    "TI_list_of_list = []\n",
    "AB_list_of_list = []\n",
    "\n",
    "for one_articles_list in articles_list_of_list:\n",
    "    current_line = 0\n",
    "    PMID_list = []\n",
    "    AB_list = []\n",
    "    TI_list = []\n",
    "    while current_line < len(one_articles_list):\n",
    "        if one_articles_list[current_line].startswith('PMID'):\n",
    "            PMID = one_articles_list[current_line].split('- ')\n",
    "            PMID_list.append(PMID[1].strip())\n",
    "            current_line += 1\n",
    "        elif one_articles_list[current_line].startswith('TI'):\n",
    "            TI = one_articles_list[current_line][6:-1].strip()\n",
    "            while one_articles_list[current_line+1].startswith('    '):\n",
    "                next_line = one_articles_list[current_line+1].strip()\n",
    "                TI = TI + ' ' + next_line\n",
    "                current_line += 1\n",
    "            TI_list.append(TI)\n",
    "        elif one_articles_list[current_line].startswith('AB'):\n",
    "            AB = one_articles_list[current_line][6:-1].strip()\n",
    "            while one_articles_list[current_line+1].startswith('    '):\n",
    "                next_line = one_articles_list[current_line+1].strip()\n",
    "                AB = AB + ' ' + next_line\n",
    "                current_line += 1\n",
    "            AB_list.append(AB)\n",
    "        current_line += 1\n",
    "    \n",
    "    PMID_list_of_list.append(PMID_list)\n",
    "    TI_list_of_list.append(TI_list)\n",
    "    AB_list_of_list.append(AB_list)"
   ]
  },
  {
   "cell_type": "code",
   "execution_count": 6,
   "id": "e34c9ad1",
   "metadata": {
    "tags": []
   },
   "outputs": [
    {
     "name": "stdout",
     "output_type": "stream",
     "text": [
      "Saved data for Breast cancer to source_files_xlsx/breast_cancer.xlsx\n",
      "Saved data for Lung cancer to source_files_xlsx/lung_cancer.xlsx\n",
      "Saved data for Colorectal cancer to source_files_xlsx/colorectal_cancer.xlsx\n",
      "Saved data for Prostate cancer to source_files_xlsx/prostate_cancer.xlsx\n",
      "Saved data for Stomach cancer to source_files_xlsx/stomach_cancer.xlsx\n",
      "Saved data for Liver cancer to source_files_xlsx/liver_cancer.xlsx\n",
      "Saved data for Cervix cancer to source_files_xlsx/cervix_cancer.xlsx\n",
      "Saved data for Oesophagus cancer to source_files_xlsx/oesophagus_cancer.xlsx\n",
      "Saved data for Thyroid cancer to source_files_xlsx/thyroid_cancer.xlsx\n",
      "Saved data for Bladder cancer to source_files_xlsx/bladder_cancer.xlsx\n"
     ]
    }
   ],
   "source": [
    "import pandas as pd\n",
    "from itertools import zip_longest\n",
    "\n",
    "cancer_types = [\"Breast\", \"Lung\", \"Colorectal\", \"Prostate\", \"Stomach\", \"Liver\", \"Cervix\", \"Oesophagus\", \"Thyroid\", \"Bladder\"]\n",
    "\n",
    "for i in range(len(cancer_types)):\n",
    "    pmid_list = PMID_list_of_list[i]\n",
    "    ti_list = TI_list_of_list[i]\n",
    "    ab_list = AB_list_of_list[i]\n",
    "    \n",
    "    zipped_data = list(zip_longest(pmid_list, ti_list, ab_list, fillvalue=None))\n",
    "    \n",
    "    pmid_list, ti_list, ab_list = zip(*zipped_data)\n",
    "\n",
    "    data = {\n",
    "        'PMID': pmid_list,\n",
    "        'TI': ti_list,\n",
    "        'AB': ab_list,\n",
    "        'Type': [cancer_types[i]] * len(pmid_list)\n",
    "    }\n",
    "    df = pd.DataFrame(data)\n",
    "\n",
    "    df.to_excel(output_xlsx_files[i], index=False)\n",
    "    print(f\"Saved data for {cancer_types[i]} cancer to {output_xlsx_files[i]}\")"
   ]
  },
  {
   "cell_type": "markdown",
   "id": "94ddd37c-7dec-4d56-8a69-4d7f1919af41",
   "metadata": {
    "tags": []
   },
   "source": [
    "# Tokenization\n",
    "Here, we start to convert sequence of texts into tokens. We start with a dictionary with cancer types as the keys. Then, we will create Token Distribution plot figures using matplotlib and save it in a separate folder."
   ]
  },
  {
   "cell_type": "code",
   "execution_count": 7,
   "id": "4a2f9e49",
   "metadata": {
    "tags": []
   },
   "outputs": [],
   "source": [
    "tokens_by_type = {}\n",
    "\n",
    "dataframes = []\n",
    "\n",
    "for file_path in output_xlsx_files:\n",
    "    df = pd.read_excel(file_path, index_col=None)\n",
    "    dataframes.append(df)\n",
    "\n",
    "for i in range(len(dataframes)):\n",
    "    dataframes[i][\"TI_AB\"] = dataframes[i][\"TI\"].astype(str) + dataframes[i][\"AB\"].astype(str)\n",
    "\n",
    "for i in range(len(dataframes)):\n",
    "    cancer_type = dataframes[i]['Type'].unique()[0]\n",
    "    tokens_by_type[cancer_type] = [article.split() for article in dataframes[i]['TI_AB']]"
   ]
  },
  {
   "cell_type": "code",
   "execution_count": 8,
   "id": "c6bcba67",
   "metadata": {
    "tags": []
   },
   "outputs": [
    {
     "data": {
      "image/png": "[encoded data removed]",
      "text/plain": [
       "<Figure size 640x480 with 1 Axes>"
      ]
     },
     "metadata": {},
     "output_type": "display_data"
    },
    {
     "data": {
      "image/png": "[encoded data removed]",
      "text/plain": [
       "<Figure size 640x480 with 1 Axes>"
      ]
     },
     "metadata": {},
     "output_type": "display_data"
    },
    {
     "data": {
      "image/png": "[encoded data removed]",
      "text/plain": [
       "<Figure size 640x480 with 1 Axes>"
      ]
     },
     "metadata": {},
     "output_type": "display_data"
    },
    {
     "data": {
      "image/png": "[encoded data removed]",
      "text/plain": [
       "<Figure size 640x480 with 1 Axes>"
      ]
     },
     "metadata": {},
     "output_type": "display_data"
    },
    {
     "data": {
      "image/png": "[encoded data removed]",
      "text/plain": [
       "<Figure size 640x480 with 1 Axes>"
      ]
     },
     "metadata": {},
     "output_type": "display_data"
    },
    {
     "data": {
      "image/png": "[encoded data removed]",
      "text/plain": [
       "<Figure size 640x480 with 1 Axes>"
      ]
     },
     "metadata": {},
     "output_type": "display_data"
    },
    {
     "data": {
      "image/png": "[encoded data removed]",
      "text/plain": [
       "<Figure size 640x480 with 1 Axes>"
      ]
     },
     "metadata": {},
     "output_type": "display_data"
    },
    {
     "data": {
      "image/png": "[encoded data removed]",
      "text/plain": [
       "<Figure size 640x480 with 1 Axes>"
      ]
     },
     "metadata": {},
     "output_type": "display_data"
    },
    {
     "data": {
      "image/png": "[encoded data removed]",
      "text/plain": [
       "<Figure size 640x480 with 1 Axes>"
      ]
     },
     "metadata": {},
     "output_type": "display_data"
    },
    {
     "data": {
      "image/png": "[encoded data removed]",
      "text/plain": [
       "<Figure size 640x480 with 1 Axes>"
      ]
     },
     "metadata": {},
     "output_type": "display_data"
    }
   ],
   "source": [
    "# HISTOGRAM\n",
    "\n",
    "import matplotlib.pyplot as plt\n",
    "\n",
    "for cancer_type in tokens_by_type.keys():\n",
    "    tokens_distribution = [len(token) for token in tokens_by_type[cancer_type]]\n",
    "\n",
    "    plt.hist(tokens_distribution, bins = 20, color = 'xkcd:pastel orange', edgecolor = 'black')\n",
    "    plt.title(f\"Tokens distribution of {cancer_type} Cancer Articles\")\n",
    "    plt.xlabel(\"The number of Words in  'Title & Abstract'\")\n",
    "    plt.ylabel(\"The number of Articles\")\n",
    "\n",
    "    plt.savefig(f'./figures/{cancer_type}_number_of_tokens_TI_AB.png')\n",
    "    plt.show()"
   ]
  },
  {
   "cell_type": "markdown",
   "id": "d842e560-09fd-4006-a8e3-ac42a44d15cd",
   "metadata": {},
   "source": [
    "based on the cancer type, we filter the token. We created 2 versions. The first one combines all tokens in all cancer types, while the 2nd one combines all tokens for each cancer type. The same one goes for subsequent cells (lower, stopwords, and lemmatization)"
   ]
  },
  {
   "cell_type": "code",
   "execution_count": 9,
   "id": "b97e9d54",
   "metadata": {
    "tags": []
   },
   "outputs": [],
   "source": [
    "import re\n",
    "\n",
    "filtered_tokens = []\n",
    "\n",
    "for cancer_type in tokens_by_type.keys():\n",
    "    filtered_tokens += list(filter(None, [re.sub(r'[^A-Za-z]', '', word) for token in tokens_by_type[cancer_type] for word in token]))\n",
    "\n",
    "filtered_tokens_by_type = {}\n",
    "\n",
    "for cancer_type in tokens_by_type.keys():\n",
    "    filtered_tokens_by_type[cancer_type] = list(filter(None, [re.sub(r'[^A-Za-z]', '', word) for token in tokens_by_type[cancer_type] for word in token]))"
   ]
  },
  {
   "cell_type": "code",
   "execution_count": 10,
   "id": "5656d35d",
   "metadata": {
    "tags": []
   },
   "outputs": [],
   "source": [
    "import nltk\n",
    "\n",
    "stopwords = nltk.corpus.stopwords.words('English')\n",
    "\n",
    "filtered_tokens_lower = [token.lower() for token in filtered_tokens]\n",
    "filtered_tokens_nostopwords = [token for token in filtered_tokens_lower if token not in stopwords]\n",
    "\n",
    "\n",
    "filtered_tokens_by_type_lower = {}\n",
    "filtered_tokens_by_type_nostopwords = {}\n",
    "\n",
    "for cancer_type in filtered_tokens_by_type.keys():\n",
    "\n",
    "    filtered_tokens_by_type_lower[cancer_type] = [token.lower() for token in filtered_tokens_by_type[cancer_type]]\n",
    "    filtered_tokens_by_type_nostopwords[cancer_type] = [token for token in filtered_tokens_by_type_lower[cancer_type] if token not in stopwords]"
   ]
  },
  {
   "cell_type": "code",
   "execution_count": 11,
   "id": "39d4b3b5",
   "metadata": {
    "tags": []
   },
   "outputs": [],
   "source": [
    "from nltk.stem import WordNetLemmatizer\n",
    "\n",
    "lemmatizer = WordNetLemmatizer()\n",
    "\n",
    "tokens_lemmatized = [lemmatizer.lemmatize(token) for token in filtered_tokens_nostopwords]\n",
    "\n",
    "tokens_lemmatized_by_type = {}\n",
    "\n",
    "for cancer_type in filtered_tokens_by_type_nostopwords.keys():\n",
    "    tokens_lemmatized_by_type[cancer_type] = [lemmatizer.lemmatize(token) for token in filtered_tokens_by_type_nostopwords[cancer_type]]"
   ]
  },
  {
   "cell_type": "code",
   "execution_count": 12,
   "id": "c9e21e7b",
   "metadata": {
    "tags": []
   },
   "outputs": [],
   "source": [
    "merged_df = pd.concat(dataframes)"
   ]
  },
  {
   "cell_type": "code",
   "execution_count": 13,
   "id": "0f189f50",
   "metadata": {
    "tags": []
   },
   "outputs": [
    {
     "data": {
      "text/plain": [
       "<bound method NDFrame.head of 0        Breast\n",
       "1        Breast\n",
       "2        Breast\n",
       "3        Breast\n",
       "4        Breast\n",
       "         ...   \n",
       "9995    Bladder\n",
       "9996    Bladder\n",
       "9997    Bladder\n",
       "9998    Bladder\n",
       "9999    Bladder\n",
       "Name: Type, Length: 100000, dtype: object>"
      ]
     },
     "execution_count": 13,
     "metadata": {},
     "output_type": "execute_result"
    }
   ],
   "source": [
    "merged_df['Type'].head"
   ]
  },
  {
   "cell_type": "code",
   "execution_count": 14,
   "id": "15715e12",
   "metadata": {
    "tags": []
   },
   "outputs": [],
   "source": [
    "only_articles = merged_df['TI_AB'].tolist()"
   ]
  },
  {
   "cell_type": "code",
   "execution_count": 15,
   "id": "aa14c1f1",
   "metadata": {
    "tags": []
   },
   "outputs": [],
   "source": [
    "wpt = nltk.WordPunctTokenizer()\n",
    "\n",
    "# removes special characters/trailing whitespaces, lowercases the words, tokenizes, \n",
    "# filters stopwords, and re-joined the tokens into articles\n",
    "def normalize_document(doc):\n",
    "    doc = re.sub(r'[^a-zA-Z\\s]', '', doc, re.I|re.A)\n",
    "    doc = doc.lower()\n",
    "    doc = doc.strip()\n",
    "    tokens_wpt = wpt.tokenize(doc)\n",
    "    filtered_tokens_wpt = [token for token in tokens_wpt if token not in stopwords]\n",
    "    doc = ' '.join(filtered_tokens_wpt)\n",
    "    return doc\n",
    "\n",
    "normalize_articles = np.vectorize(normalize_document)\n",
    "normalized_only_articles = normalize_articles(only_articles)"
   ]
  },
  {
   "cell_type": "markdown",
   "id": "f09d4207-2dd5-4de0-b7e4-1fd9c89c7318",
   "metadata": {},
   "source": [
    "**Bag of Words (BOW)** is a technique in natural language processing (NLP) used to represent text data as numerical feature vectors. It involves creating a vocabulary of unique words in the text corpus. Each document in the corpus is then represented as a vector where each dimension corresponds to a word in the vocabulary, and the value in each dimension represents the frequency of that word in the document.\n",
    "\n",
    "**a sparse matrix** where most of the elements are zero. In other words, it is a matrix with a large number of zero-valued elements relative to the total number of elements. Sparse matrices are used to efficiently represent and store data when the majority of elements are zero, which is common in many real-world datasets, including text data.\n",
    "\n",
    "**CountVectorizer** is a class provided by scikit-learn used for converting a collection of text documents into a matrix of token counts. CountVectorizer is a popular and convenient tool for creating BOW representations."
   ]
  },
  {
   "cell_type": "code",
   "execution_count": 16,
   "id": "43fe30b4",
   "metadata": {
    "tags": []
   },
   "outputs": [
    {
     "name": "stdout",
     "output_type": "stream",
     "text": [
      "(100000, 195219)\n"
     ]
    },
    {
     "data": {
      "text/plain": [
       "<100000x195219 sparse matrix of type '<class 'numpy.int64'>'\n",
       "\twith 8033464 stored elements in Compressed Sparse Row format>"
      ]
     },
     "execution_count": 16,
     "metadata": {},
     "output_type": "execute_result"
    }
   ],
   "source": [
    "from sklearn.feature_extraction.text import CountVectorizer\n",
    "cv = CountVectorizer(min_df=0., max_df=1.)\n",
    "cv_matrix = cv.fit_transform(normalized_only_articles)\n",
    "print(cv_matrix.shape)\n",
    "cv_matrix"
   ]
  },
  {
   "cell_type": "code",
   "execution_count": 17,
   "id": "3dcbe11f",
   "metadata": {
    "tags": []
   },
   "outputs": [
    {
     "name": "stdout",
     "output_type": "stream",
     "text": [
      "(100000, 15000)\n"
     ]
    },
    {
     "data": {
      "text/plain": [
       "<100000x15000 sparse matrix of type '<class 'numpy.int64'>'\n",
       "\twith 7581966 stored elements in Compressed Sparse Row format>"
      ]
     },
     "execution_count": 17,
     "metadata": {},
     "output_type": "execute_result"
    }
   ],
   "source": [
    "cv = CountVectorizer(max_features=15000, min_df=0., max_df=1.)\n",
    "cv_matrix = cv.fit_transform(normalized_only_articles)\n",
    "print(cv_matrix.shape)\n",
    "cv_matrix"
   ]
  },
  {
   "cell_type": "markdown",
   "id": "d42d7a3b-3d0e-4644-852c-cc601df5fac5",
   "metadata": {},
   "source": [
    "The dense representation is used when you want to convert a sparse matrix, like the one obtained from CountVectorizer, into a standard dense NumPy array (using *toarray* method). A dense representation stores every single element of the matrix, regardless of whether it's zero or not."
   ]
  },
  {
   "cell_type": "code",
   "execution_count": 18,
   "id": "c462980c",
   "metadata": {
    "tags": []
   },
   "outputs": [
    {
     "data": {
      "text/plain": [
       "array([[0, 0, 0, ..., 0, 0, 0],\n",
       "       [0, 0, 0, ..., 0, 0, 0],\n",
       "       [0, 0, 0, ..., 0, 0, 0],\n",
       "       ...,\n",
       "       [0, 0, 0, ..., 0, 0, 0],\n",
       "       [0, 0, 0, ..., 0, 0, 0],\n",
       "       [0, 0, 0, ..., 0, 0, 0]], dtype=int64)"
      ]
     },
     "execution_count": 18,
     "metadata": {},
     "output_type": "execute_result"
    }
   ],
   "source": [
    "cv_matrix = cv_matrix.toarray()\n",
    "cv_matrix"
   ]
  },
  {
   "cell_type": "code",
   "execution_count": 19,
   "id": "d922f78c",
   "metadata": {
    "tags": []
   },
   "outputs": [
    {
     "data": {
      "text/html": [
       "<div>\n",
       "<style scoped>\n",
       "    .dataframe tbody tr th:only-of-type {\n",
       "        vertical-align: middle;\n",
       "    }\n",
       "\n",
       "    .dataframe tbody tr th {\n",
       "        vertical-align: top;\n",
       "    }\n",
       "\n",
       "    .dataframe thead th {\n",
       "        text-align: right;\n",
       "    }\n",
       "</style>\n",
       "<table border=\"1\" class=\"dataframe\">\n",
       "  <thead>\n",
       "    <tr style=\"text-align: right;\">\n",
       "      <th></th>\n",
       "      <th>00</th>\n",
       "      <th>000</th>\n",
       "      <th>0001</th>\n",
       "      <th>001</th>\n",
       "      <th>002</th>\n",
       "      <th>003</th>\n",
       "      <th>004</th>\n",
       "      <th>007</th>\n",
       "      <th>01</th>\n",
       "      <th>02</th>\n",
       "      <th>...</th>\n",
       "      <th>zinc</th>\n",
       "      <th>zip</th>\n",
       "      <th>zn</th>\n",
       "      <th>znf</th>\n",
       "      <th>znfas</th>\n",
       "      <th>zolbetuximab</th>\n",
       "      <th>zoledronic</th>\n",
       "      <th>zonal</th>\n",
       "      <th>zone</th>\n",
       "      <th>zones</th>\n",
       "    </tr>\n",
       "  </thead>\n",
       "  <tbody>\n",
       "    <tr>\n",
       "      <th>0</th>\n",
       "      <td>0</td>\n",
       "      <td>0</td>\n",
       "      <td>0</td>\n",
       "      <td>0</td>\n",
       "      <td>0</td>\n",
       "      <td>0</td>\n",
       "      <td>0</td>\n",
       "      <td>0</td>\n",
       "      <td>0</td>\n",
       "      <td>0</td>\n",
       "      <td>...</td>\n",
       "      <td>0</td>\n",
       "      <td>0</td>\n",
       "      <td>0</td>\n",
       "      <td>0</td>\n",
       "      <td>0</td>\n",
       "      <td>0</td>\n",
       "      <td>0</td>\n",
       "      <td>0</td>\n",
       "      <td>0</td>\n",
       "      <td>0</td>\n",
       "    </tr>\n",
       "    <tr>\n",
       "      <th>1</th>\n",
       "      <td>0</td>\n",
       "      <td>0</td>\n",
       "      <td>0</td>\n",
       "      <td>0</td>\n",
       "      <td>0</td>\n",
       "      <td>0</td>\n",
       "      <td>0</td>\n",
       "      <td>0</td>\n",
       "      <td>0</td>\n",
       "      <td>0</td>\n",
       "      <td>...</td>\n",
       "      <td>0</td>\n",
       "      <td>0</td>\n",
       "      <td>0</td>\n",
       "      <td>0</td>\n",
       "      <td>0</td>\n",
       "      <td>0</td>\n",
       "      <td>0</td>\n",
       "      <td>0</td>\n",
       "      <td>0</td>\n",
       "      <td>0</td>\n",
       "    </tr>\n",
       "    <tr>\n",
       "      <th>2</th>\n",
       "      <td>0</td>\n",
       "      <td>0</td>\n",
       "      <td>0</td>\n",
       "      <td>0</td>\n",
       "      <td>0</td>\n",
       "      <td>0</td>\n",
       "      <td>0</td>\n",
       "      <td>0</td>\n",
       "      <td>0</td>\n",
       "      <td>0</td>\n",
       "      <td>...</td>\n",
       "      <td>0</td>\n",
       "      <td>0</td>\n",
       "      <td>0</td>\n",
       "      <td>0</td>\n",
       "      <td>0</td>\n",
       "      <td>0</td>\n",
       "      <td>0</td>\n",
       "      <td>0</td>\n",
       "      <td>0</td>\n",
       "      <td>0</td>\n",
       "    </tr>\n",
       "    <tr>\n",
       "      <th>3</th>\n",
       "      <td>0</td>\n",
       "      <td>0</td>\n",
       "      <td>0</td>\n",
       "      <td>0</td>\n",
       "      <td>0</td>\n",
       "      <td>0</td>\n",
       "      <td>0</td>\n",
       "      <td>0</td>\n",
       "      <td>0</td>\n",
       "      <td>0</td>\n",
       "      <td>...</td>\n",
       "      <td>0</td>\n",
       "      <td>0</td>\n",
       "      <td>0</td>\n",
       "      <td>0</td>\n",
       "      <td>0</td>\n",
       "      <td>0</td>\n",
       "      <td>0</td>\n",
       "      <td>0</td>\n",
       "      <td>0</td>\n",
       "      <td>0</td>\n",
       "    </tr>\n",
       "    <tr>\n",
       "      <th>4</th>\n",
       "      <td>0</td>\n",
       "      <td>0</td>\n",
       "      <td>0</td>\n",
       "      <td>0</td>\n",
       "      <td>0</td>\n",
       "      <td>0</td>\n",
       "      <td>0</td>\n",
       "      <td>0</td>\n",
       "      <td>0</td>\n",
       "      <td>0</td>\n",
       "      <td>...</td>\n",
       "      <td>0</td>\n",
       "      <td>0</td>\n",
       "      <td>0</td>\n",
       "      <td>0</td>\n",
       "      <td>0</td>\n",
       "      <td>0</td>\n",
       "      <td>0</td>\n",
       "      <td>0</td>\n",
       "      <td>0</td>\n",
       "      <td>0</td>\n",
       "    </tr>\n",
       "    <tr>\n",
       "      <th>...</th>\n",
       "      <td>...</td>\n",
       "      <td>...</td>\n",
       "      <td>...</td>\n",
       "      <td>...</td>\n",
       "      <td>...</td>\n",
       "      <td>...</td>\n",
       "      <td>...</td>\n",
       "      <td>...</td>\n",
       "      <td>...</td>\n",
       "      <td>...</td>\n",
       "      <td>...</td>\n",
       "      <td>...</td>\n",
       "      <td>...</td>\n",
       "      <td>...</td>\n",
       "      <td>...</td>\n",
       "      <td>...</td>\n",
       "      <td>...</td>\n",
       "      <td>...</td>\n",
       "      <td>...</td>\n",
       "      <td>...</td>\n",
       "      <td>...</td>\n",
       "    </tr>\n",
       "    <tr>\n",
       "      <th>99995</th>\n",
       "      <td>0</td>\n",
       "      <td>0</td>\n",
       "      <td>0</td>\n",
       "      <td>0</td>\n",
       "      <td>0</td>\n",
       "      <td>0</td>\n",
       "      <td>0</td>\n",
       "      <td>0</td>\n",
       "      <td>0</td>\n",
       "      <td>0</td>\n",
       "      <td>...</td>\n",
       "      <td>0</td>\n",
       "      <td>0</td>\n",
       "      <td>0</td>\n",
       "      <td>0</td>\n",
       "      <td>0</td>\n",
       "      <td>0</td>\n",
       "      <td>0</td>\n",
       "      <td>0</td>\n",
       "      <td>0</td>\n",
       "      <td>0</td>\n",
       "    </tr>\n",
       "    <tr>\n",
       "      <th>99996</th>\n",
       "      <td>0</td>\n",
       "      <td>0</td>\n",
       "      <td>0</td>\n",
       "      <td>0</td>\n",
       "      <td>0</td>\n",
       "      <td>0</td>\n",
       "      <td>0</td>\n",
       "      <td>0</td>\n",
       "      <td>0</td>\n",
       "      <td>0</td>\n",
       "      <td>...</td>\n",
       "      <td>0</td>\n",
       "      <td>0</td>\n",
       "      <td>0</td>\n",
       "      <td>0</td>\n",
       "      <td>0</td>\n",
       "      <td>0</td>\n",
       "      <td>0</td>\n",
       "      <td>0</td>\n",
       "      <td>0</td>\n",
       "      <td>0</td>\n",
       "    </tr>\n",
       "    <tr>\n",
       "      <th>99997</th>\n",
       "      <td>0</td>\n",
       "      <td>0</td>\n",
       "      <td>0</td>\n",
       "      <td>0</td>\n",
       "      <td>0</td>\n",
       "      <td>0</td>\n",
       "      <td>0</td>\n",
       "      <td>0</td>\n",
       "      <td>0</td>\n",
       "      <td>0</td>\n",
       "      <td>...</td>\n",
       "      <td>0</td>\n",
       "      <td>0</td>\n",
       "      <td>0</td>\n",
       "      <td>0</td>\n",
       "      <td>0</td>\n",
       "      <td>0</td>\n",
       "      <td>0</td>\n",
       "      <td>0</td>\n",
       "      <td>0</td>\n",
       "      <td>0</td>\n",
       "    </tr>\n",
       "    <tr>\n",
       "      <th>99998</th>\n",
       "      <td>0</td>\n",
       "      <td>0</td>\n",
       "      <td>0</td>\n",
       "      <td>0</td>\n",
       "      <td>0</td>\n",
       "      <td>0</td>\n",
       "      <td>0</td>\n",
       "      <td>0</td>\n",
       "      <td>0</td>\n",
       "      <td>0</td>\n",
       "      <td>...</td>\n",
       "      <td>0</td>\n",
       "      <td>0</td>\n",
       "      <td>0</td>\n",
       "      <td>0</td>\n",
       "      <td>0</td>\n",
       "      <td>0</td>\n",
       "      <td>0</td>\n",
       "      <td>0</td>\n",
       "      <td>0</td>\n",
       "      <td>0</td>\n",
       "    </tr>\n",
       "    <tr>\n",
       "      <th>99999</th>\n",
       "      <td>0</td>\n",
       "      <td>0</td>\n",
       "      <td>0</td>\n",
       "      <td>0</td>\n",
       "      <td>0</td>\n",
       "      <td>0</td>\n",
       "      <td>0</td>\n",
       "      <td>0</td>\n",
       "      <td>0</td>\n",
       "      <td>0</td>\n",
       "      <td>...</td>\n",
       "      <td>0</td>\n",
       "      <td>0</td>\n",
       "      <td>0</td>\n",
       "      <td>0</td>\n",
       "      <td>0</td>\n",
       "      <td>0</td>\n",
       "      <td>0</td>\n",
       "      <td>0</td>\n",
       "      <td>0</td>\n",
       "      <td>0</td>\n",
       "    </tr>\n",
       "  </tbody>\n",
       "</table>\n",
       "<p>100000 rows × 15000 columns</p>\n",
       "</div>"
      ],
      "text/plain": [
       "       00  000  0001  001  002  003  004  007  01  02  ...  zinc  zip  zn  \\\n",
       "0       0    0     0    0    0    0    0    0   0   0  ...     0    0   0   \n",
       "1       0    0     0    0    0    0    0    0   0   0  ...     0    0   0   \n",
       "2       0    0     0    0    0    0    0    0   0   0  ...     0    0   0   \n",
       "3       0    0     0    0    0    0    0    0   0   0  ...     0    0   0   \n",
       "4       0    0     0    0    0    0    0    0   0   0  ...     0    0   0   \n",
       "...    ..  ...   ...  ...  ...  ...  ...  ...  ..  ..  ...   ...  ...  ..   \n",
       "99995   0    0     0    0    0    0    0    0   0   0  ...     0    0   0   \n",
       "99996   0    0     0    0    0    0    0    0   0   0  ...     0    0   0   \n",
       "99997   0    0     0    0    0    0    0    0   0   0  ...     0    0   0   \n",
       "99998   0    0     0    0    0    0    0    0   0   0  ...     0    0   0   \n",
       "99999   0    0     0    0    0    0    0    0   0   0  ...     0    0   0   \n",
       "\n",
       "       znf  znfas  zolbetuximab  zoledronic  zonal  zone  zones  \n",
       "0        0      0             0           0      0     0      0  \n",
       "1        0      0             0           0      0     0      0  \n",
       "2        0      0             0           0      0     0      0  \n",
       "3        0      0             0           0      0     0      0  \n",
       "4        0      0             0           0      0     0      0  \n",
       "...    ...    ...           ...         ...    ...   ...    ...  \n",
       "99995    0      0             0           0      0     0      0  \n",
       "99996    0      0             0           0      0     0      0  \n",
       "99997    0      0             0           0      0     0      0  \n",
       "99998    0      0             0           0      0     0      0  \n",
       "99999    0      0             0           0      0     0      0  \n",
       "\n",
       "[100000 rows x 15000 columns]"
      ]
     },
     "execution_count": 19,
     "metadata": {},
     "output_type": "execute_result"
    }
   ],
   "source": [
    "# get_feature_names_out() is a method provided by CountVectorizer to retrieve the feature names, \n",
    "# such as the unique words present in the corpus. \n",
    "# These feature names are extracted based on the vocabulary built during the fitting process.\n",
    "vocab = cv.get_feature_names_out()\n",
    "pd.DataFrame(cv_matrix, columns=vocab)"
   ]
  },
  {
   "cell_type": "code",
   "execution_count": 20,
   "id": "c6e75fdb",
   "metadata": {
    "tags": []
   },
   "outputs": [
    {
     "name": "stdout",
     "output_type": "stream",
     "text": [
      "15000\n",
      "['00' '000' '0001' ... 'zonal' 'zone' 'zones']\n"
     ]
    }
   ],
   "source": [
    "print(len(vocab))\n",
    "print(vocab)"
   ]
  },
  {
   "cell_type": "markdown",
   "id": "cff91aac-6907-40b9-b03c-2d6bc0e700a0",
   "metadata": {
    "tags": []
   },
   "source": [
    "# Training the data"
   ]
  },
  {
   "cell_type": "code",
   "execution_count": 21,
   "id": "7d843939",
   "metadata": {
    "tags": []
   },
   "outputs": [
    {
     "name": "stdout",
     "output_type": "stream",
     "text": [
      "(100000, 2)\n"
     ]
    },
    {
     "data": {
      "text/html": [
       "<div>\n",
       "<style scoped>\n",
       "    .dataframe tbody tr th:only-of-type {\n",
       "        vertical-align: middle;\n",
       "    }\n",
       "\n",
       "    .dataframe tbody tr th {\n",
       "        vertical-align: top;\n",
       "    }\n",
       "\n",
       "    .dataframe thead th {\n",
       "        text-align: right;\n",
       "    }\n",
       "</style>\n",
       "<table border=\"1\" class=\"dataframe\">\n",
       "  <thead>\n",
       "    <tr style=\"text-align: right;\">\n",
       "      <th></th>\n",
       "      <th>Article</th>\n",
       "      <th>Type</th>\n",
       "    </tr>\n",
       "  </thead>\n",
       "  <tbody>\n",
       "    <tr>\n",
       "      <th>0</th>\n",
       "      <td>breast cancer biology biomarkers treatmentsduring past recent years various therapies emerged era breast cancer breast cancer heterogeneous disease genetic environmental factors involved breast ca...</td>\n",
       "      <td>Breast</td>\n",
       "    </tr>\n",
       "    <tr>\n",
       "      <th>1</th>\n",
       "      <td>breast cancer presentation investigation managementbreast cancer common global malignancy leading cause cancer deaths despite undergraduate postgraduate exposure breast cancer limited impacting ab...</td>\n",
       "      <td>Breast</td>\n",
       "    </tr>\n",
       "    <tr>\n",
       "      <th>2</th>\n",
       "      <td>awareness current knowledge breast cancerbreast cancer remains worldwide public health dilemma currently common tumour globe awareness breast cancer public attentiveness advancement breast imaging...</td>\n",
       "      <td>Breast</td>\n",
       "    </tr>\n",
       "    <tr>\n",
       "      <th>3</th>\n",
       "      <td>review breast cancer pathologigcal image processingbreast cancer one common malignancies pathological image processing breast become important means early diagnosis breast cancer using medical ima...</td>\n",
       "      <td>Breast</td>\n",
       "    </tr>\n",
       "    <tr>\n",
       "      <th>4</th>\n",
       "      <td>primary secondary prevention breast cancerintroduction breast cancer common cancer among women second cancer frequently occurring worldwide newlydiagnosed cancers much evidence showing influence l...</td>\n",
       "      <td>Breast</td>\n",
       "    </tr>\n",
       "  </tbody>\n",
       "</table>\n",
       "</div>"
      ],
      "text/plain": [
       "                                                                                                                                                                                                   Article  \\\n",
       "0  breast cancer biology biomarkers treatmentsduring past recent years various therapies emerged era breast cancer breast cancer heterogeneous disease genetic environmental factors involved breast ca...   \n",
       "1  breast cancer presentation investigation managementbreast cancer common global malignancy leading cause cancer deaths despite undergraduate postgraduate exposure breast cancer limited impacting ab...   \n",
       "2  awareness current knowledge breast cancerbreast cancer remains worldwide public health dilemma currently common tumour globe awareness breast cancer public attentiveness advancement breast imaging...   \n",
       "3  review breast cancer pathologigcal image processingbreast cancer one common malignancies pathological image processing breast become important means early diagnosis breast cancer using medical ima...   \n",
       "4  primary secondary prevention breast cancerintroduction breast cancer common cancer among women second cancer frequently occurring worldwide newlydiagnosed cancers much evidence showing influence l...   \n",
       "\n",
       "     Type  \n",
       "0  Breast  \n",
       "1  Breast  \n",
       "2  Breast  \n",
       "3  Breast  \n",
       "4  Breast  "
      ]
     },
     "execution_count": 21,
     "metadata": {},
     "output_type": "execute_result"
    }
   ],
   "source": [
    "corpus, target_names = (normalized_only_articles,  merged_df['Type'])\n",
    "\n",
    "data_df = pd.DataFrame({'Article': corpus, 'Type': target_names})\n",
    "\n",
    "print(data_df.shape)\n",
    "data_df.head(5)"
   ]
  },
  {
   "cell_type": "code",
   "execution_count": 22,
   "id": "fe658ae7-9f32-4fb9-ad63-23a54ab496bc",
   "metadata": {
    "tags": []
   },
   "outputs": [
    {
     "data": {
      "text/plain": [
       "((67000,), (33000,))"
      ]
     },
     "execution_count": 22,
     "metadata": {},
     "output_type": "execute_result"
    }
   ],
   "source": [
    "from sklearn.model_selection import train_test_split\n",
    "\n",
    "train_corpus, test_corpus, train_label_names, test_label_names =\\\n",
    "                                 train_test_split(np.array(data_df['Article']),\n",
    "                                                       np.array(data_df['Type']), test_size=0.33, random_state=42)\n",
    "train_corpus.shape, test_corpus.shape"
   ]
  },
  {
   "cell_type": "code",
   "execution_count": 23,
   "id": "2e94bfc8-671b-45b9-8a68-5c7fd36a565d",
   "metadata": {
    "tags": []
   },
   "outputs": [
    {
     "name": "stdout",
     "output_type": "stream",
     "text": [
      "['Liver' 'Prostate' 'Breast' 'Liver' 'Thyroid']\n",
      "['approach treatment colorectal liver metastasesnan'\n",
      " 'prostate cancer invasion promoted mirpinduced ndrg deficiency nfb regulationbackground evidence suggests serum retinol level associated prostate cancer risk association genetic variants retinol metabolism pathway genes prostate cancer risk remains unclarified methods singlenucleotide polymorphisms snps genes retinol metabolism pathway genotyped evaluate association prostate cancer risk cases controls prostate lung colorectal ovarian plco cancer screening trial gene expression analysis evaluated using data gene expression omnibus geo datasets cancer genome atlas tcga database data genotypetissue expression gtex project dataset utilized perform expression quantitative trait loci eqtl analysis results two snps significantly associated prostate cancer risk rs aldha odds ratio confidence interval ci p rs aldha ci p moreover mrna level aldha significantly higher prostate cancer tissues normal tissues tcga datasets geo datasets p p respectively rs eqtl aldha p conclusion findings highlight genetic variants retinol metabolism pathway genes associated prostate cancer risk'\n",
      " 'primary treatment early breast cancer conservation surgery radiation therapy effect adjuvant chemotherapythe meaning women breast cancer ascribe disease may well impact effectiveness coping strategies used come terms breast cancer health care professionals need know meanings women breast cancer ascribing disease identify maladaptive coping strategies ensure women receive support need order promote physical psychological recovery study involved assessing meaning illness group women breast cancer two points time time diagnosis mean months diagnosis eight meanings illness devised lipowski depicted following words challenge enemy punishment loss strategy relief weakness value popular choice meaning women challenge although womens choices indicated maladaptive coping strategies used implications study nurses health care professionals discussed'\n",
      " 'fluorodeoxyglucose pet monitoring response embolotherapy transarterial chemoembolization primary metastatic liver tumorspurpose interfraction intrafraction changes amplitude liver motion assessed patients liver cancer treated kv cone beam computed tomography cbctguided stereotactic body radiation therapy sbrt methods materials total cbcts obtained patient treatment position immediately fraction planning dcts evaluated patients undergoing sixfraction sbrt unresectable liver cancer n without n abdominal compression offline cbcts sorted bins based phase respiration liver motion amplitude measured using livertoliver alignment endexhale endinhale cbct fourdimensional ct reconstructions inter intrafraction amplitude changes measured difference presbrt cbcts relative planning fourdimensional ct presbrt postsbrt cbcts respectively results mean liver motion amplitude patients range mm mediolateral ml craniocaudal cc anteroposterior ap directions respectively mean absolute inter intrafraction liver motion amplitude changes ml cc ap mm ml cc ap mm respectively significant correlations found intrafraction amplitude change intrafraction time range minsec inter intrafraction amplitude changes liver motion amplitude intraobserver reproducibility sigma n fractions ml cc ap mm conclusions majority liver sbrt patients change liver motion amplitude minimal treatment course showed apparent relationships magnitude liver motion intrafraction time'\n",
      " 'unusual metastases differentiated thyroid cancers multicenter study koreabackground long noncoding rnas lncrnas emerging class regulators cancer lncrna mcmapas demonstrated versatile mediator many cancers except papillary thyroid cancer aim study investigate role mechanism mcmapas papillary thyroid cancer methods quantitative realtime pcr used assess level mcmapas mirp papillary thyroid cancer tissues cells western blot used detect ecadherin secreted protein acidic cysteine rich sparc protein levels cck scratch wound assay transwell assay used evaluate papillary thyroid cancer cell proliferation migration invasion respectively blast alignment luciferase assay used explore interaction among mcmapas mir sparc results papillary thyroid cancer mcmapas upregulated mir downregulated mcmapas overexpression promoted papillary thyroid cancer proliferation migration invasion mcmapas shown negatively correlated mirp next validated mirp overexpression could reverse promoting role mcmapas papillary thyroid cancer whereby sparc plays important regulating role vivo confirmed antitumor role mcmapas silencing close relation among mcmapas mirp sparc conclusions mcmapas promotes papillary thyroid cancer regulating mcmapasmirpsparc axis could potentially therapeutic target papillary thyroid cancer']\n"
     ]
    }
   ],
   "source": [
    "print(train_label_names[:5])\n",
    "print(train_corpus[:5])"
   ]
  },
  {
   "cell_type": "code",
   "execution_count": 24,
   "id": "0cb65929-35bb-4504-842d-302dfb4cdf44",
   "metadata": {
    "tags": []
   },
   "outputs": [
    {
     "data": {
      "text/html": [
       "<div>\n",
       "<style scoped>\n",
       "    .dataframe tbody tr th:only-of-type {\n",
       "        vertical-align: middle;\n",
       "    }\n",
       "\n",
       "    .dataframe tbody tr th {\n",
       "        vertical-align: top;\n",
       "    }\n",
       "\n",
       "    .dataframe thead th {\n",
       "        text-align: right;\n",
       "    }\n",
       "</style>\n",
       "<table border=\"1\" class=\"dataframe\">\n",
       "  <thead>\n",
       "    <tr style=\"text-align: right;\">\n",
       "      <th></th>\n",
       "      <th>Type</th>\n",
       "      <th>Train Count</th>\n",
       "      <th>Test Count</th>\n",
       "    </tr>\n",
       "  </thead>\n",
       "  <tbody>\n",
       "    <tr>\n",
       "      <th>4</th>\n",
       "      <td>Bladder</td>\n",
       "      <td>6733</td>\n",
       "      <td>3267</td>\n",
       "    </tr>\n",
       "    <tr>\n",
       "      <th>0</th>\n",
       "      <td>Liver</td>\n",
       "      <td>6726</td>\n",
       "      <td>3274</td>\n",
       "    </tr>\n",
       "    <tr>\n",
       "      <th>5</th>\n",
       "      <td>Colorectal</td>\n",
       "      <td>6726</td>\n",
       "      <td>3274</td>\n",
       "    </tr>\n",
       "    <tr>\n",
       "      <th>9</th>\n",
       "      <td>Lung</td>\n",
       "      <td>6726</td>\n",
       "      <td>3274</td>\n",
       "    </tr>\n",
       "    <tr>\n",
       "      <th>2</th>\n",
       "      <td>Breast</td>\n",
       "      <td>6720</td>\n",
       "      <td>3280</td>\n",
       "    </tr>\n",
       "    <tr>\n",
       "      <th>6</th>\n",
       "      <td>Cervix</td>\n",
       "      <td>6704</td>\n",
       "      <td>3296</td>\n",
       "    </tr>\n",
       "    <tr>\n",
       "      <th>8</th>\n",
       "      <td>Oesophagus</td>\n",
       "      <td>6698</td>\n",
       "      <td>3302</td>\n",
       "    </tr>\n",
       "    <tr>\n",
       "      <th>3</th>\n",
       "      <td>Thyroid</td>\n",
       "      <td>6673</td>\n",
       "      <td>3327</td>\n",
       "    </tr>\n",
       "    <tr>\n",
       "      <th>7</th>\n",
       "      <td>Stomach</td>\n",
       "      <td>6671</td>\n",
       "      <td>3329</td>\n",
       "    </tr>\n",
       "    <tr>\n",
       "      <th>1</th>\n",
       "      <td>Prostate</td>\n",
       "      <td>6623</td>\n",
       "      <td>3377</td>\n",
       "    </tr>\n",
       "  </tbody>\n",
       "</table>\n",
       "</div>"
      ],
      "text/plain": [
       "         Type  Train Count  Test Count\n",
       "4     Bladder         6733        3267\n",
       "0       Liver         6726        3274\n",
       "5  Colorectal         6726        3274\n",
       "9        Lung         6726        3274\n",
       "2      Breast         6720        3280\n",
       "6      Cervix         6704        3296\n",
       "8  Oesophagus         6698        3302\n",
       "3     Thyroid         6673        3327\n",
       "7     Stomach         6671        3329\n",
       "1    Prostate         6623        3377"
      ]
     },
     "execution_count": 24,
     "metadata": {},
     "output_type": "execute_result"
    }
   ],
   "source": [
    "from collections import Counter\n",
    "\n",
    "trd = dict(Counter(train_label_names))\n",
    "tsd = dict(Counter(test_label_names))\n",
    "\n",
    "(pd.DataFrame([[key, trd[key], tsd[key]] for key in trd], \n",
    "             columns=['Type', 'Train Count', 'Test Count'])\n",
    ".sort_values(by=['Train Count', 'Test Count'],\n",
    "             ascending=False))"
   ]
  },
  {
   "cell_type": "code",
   "execution_count": 26,
   "id": "9e380715-721d-45a3-a053-dcd629aa124d",
   "metadata": {
    "tags": []
   },
   "outputs": [
    {
     "name": "stdout",
     "output_type": "stream",
     "text": [
      "(67000, 153508)\n",
      "  (0, 8553)\t1\n",
      "  (0, 142618)\t1\n",
      "  (0, 28226)\t1\n",
      "  (0, 76203)\t1\n",
      "  (0, 82585)\t1\n",
      "  (1, 28226)\t1\n",
      "  (1, 112715)\t8\n",
      "  (1, 17248)\t9\n",
      "  (1, 69398)\t1\n",
      "  (1, 112391)\t1\n",
      "  (1, 85556)\t1\n",
      "  (1, 91127)\t1\n",
      "  (1, 35434)\t1\n",
      "  (1, 92336)\t1\n",
      "  (1, 118704)\t1\n",
      "  (1, 46576)\t1\n",
      "  (1, 134220)\t1\n",
      "  (1, 126131)\t1\n",
      "  (1, 120581)\t4\n",
      "  (1, 74911)\t2\n",
      "  (1, 10105)\t3\n",
      "  (1, 121702)\t5\n",
      "  (1, 10112)\t2\n",
      "  (1, 54228)\t2\n",
      "  (1, 148494)\t2\n",
      "  :\t:\n",
      "  (66999, 118963)\t1\n",
      "  (66999, 98534)\t1\n",
      "  (66999, 35458)\t2\n",
      "  (66999, 44954)\t1\n",
      "  (66999, 12156)\t1\n",
      "  (66999, 118985)\t1\n",
      "  (66999, 28826)\t1\n",
      "  (66999, 112032)\t1\n",
      "  (66999, 58940)\t1\n",
      "  (66999, 69626)\t1\n",
      "  (66999, 73812)\t1\n",
      "  (66999, 151083)\t1\n",
      "  (66999, 29415)\t1\n",
      "  (66999, 23708)\t1\n",
      "  (66999, 1861)\t1\n",
      "  (66999, 5268)\t1\n",
      "  (66999, 48616)\t1\n",
      "  (66999, 33839)\t1\n",
      "  (66999, 109320)\t1\n",
      "  (66999, 36997)\t1\n",
      "  (66999, 112953)\t1\n",
      "  (66999, 94350)\t1\n",
      "  (66999, 40416)\t1\n",
      "  (66999, 144374)\t1\n",
      "  (66999, 102427)\t1\n",
      "(33000, 153508)\n",
      "  (0, 2384)\t1\n",
      "  (0, 2705)\t1\n",
      "  (0, 3476)\t1\n",
      "  (0, 5327)\t2\n",
      "  (0, 6118)\t1\n",
      "  (0, 8336)\t5\n",
      "  (0, 8352)\t1\n",
      "  (0, 9971)\t2\n",
      "  (0, 13529)\t1\n",
      "  (0, 13680)\t1\n",
      "  (0, 14791)\t1\n",
      "  (0, 19739)\t2\n",
      "  (0, 20900)\t3\n",
      "  (0, 22239)\t4\n",
      "  (0, 22374)\t8\n",
      "  (0, 24015)\t1\n",
      "  (0, 24173)\t2\n",
      "  (0, 24312)\t1\n",
      "  (0, 26602)\t2\n",
      "  (0, 27161)\t1\n",
      "  (0, 27496)\t1\n",
      "  (0, 28361)\t1\n",
      "  (0, 28374)\t1\n",
      "  (0, 28379)\t2\n",
      "  (0, 28653)\t1\n",
      "  :\t:\n",
      "  (32999, 112077)\t1\n",
      "  (32999, 116171)\t1\n",
      "  (32999, 116816)\t1\n",
      "  (32999, 116847)\t2\n",
      "  (32999, 120162)\t1\n",
      "  (32999, 120683)\t1\n",
      "  (32999, 122931)\t4\n",
      "  (32999, 126189)\t1\n",
      "  (32999, 127637)\t4\n",
      "  (32999, 131254)\t1\n",
      "  (32999, 132915)\t1\n",
      "  (32999, 133001)\t1\n",
      "  (32999, 134040)\t2\n",
      "  (32999, 134343)\t1\n",
      "  (32999, 135130)\t2\n",
      "  (32999, 141349)\t1\n",
      "  (32999, 144234)\t4\n",
      "  (32999, 144386)\t1\n",
      "  (32999, 146361)\t1\n",
      "  (32999, 147910)\t3\n",
      "  (32999, 150143)\t1\n",
      "  (32999, 151390)\t2\n",
      "  (32999, 151761)\t1\n",
      "  (32999, 151810)\t1\n",
      "  (32999, 152491)\t2\n"
     ]
    }
   ],
   "source": [
    "from sklearn.feature_extraction.text import CountVectorizer\n",
    "from sklearn.model_selection import cross_val_score\n",
    "\n",
    "# build BOW features on train articles\n",
    "cv = CountVectorizer(binary=False, min_df=0.0, max_df=1.0)\n",
    "cv_train_features = cv.fit_transform(train_corpus)\n",
    "\n",
    "print(cv_train_features.shape)\n",
    "print(cv_train_features)\n",
    "\n",
    "# transform test articles into features\n",
    "cv_test_features = cv.transform(test_corpus)\n",
    "print(cv_test_features.shape)\n",
    "print(cv_test_features)"
   ]
  },
  {
   "cell_type": "code",
   "execution_count": 27,
   "id": "264302f4-88e8-4b55-94df-3fece28b181b",
   "metadata": {
    "tags": []
   },
   "outputs": [
    {
     "name": "stdout",
     "output_type": "stream",
     "text": [
      "BOW model:> Train features shape: (67000, 153508)  Test features shape: (33000, 153508)\n"
     ]
    }
   ],
   "source": [
    "print('BOW model:> Train features shape:', cv_train_features.shape, ' Test features shape:', cv_test_features.shape)"
   ]
  },
  {
   "cell_type": "markdown",
   "id": "baf1401b-016e-4aee-a560-fae847f62d26",
   "metadata": {},
   "source": [
    "TF-IDF stands for Term Frequency-Inverse Document Frequency. It's a numerical statistic that reflects the importance of a word in a document relative to a collection of documents (corpus). TF-IDF is commonly used in information retrieval and text mining tasks, including text classification.\n",
    "\n",
    "Term Frequency calculates (TF) how frequently a term (word) appears in a document.\n",
    "\n",
    "Inverse Document Frequency (IDF) evaluates the importance of a word in the entire corpus."
   ]
  },
  {
   "cell_type": "code",
   "execution_count": 37,
   "id": "b4935bdd-01b9-4da0-95cf-fc8228cba2bd",
   "metadata": {
    "tags": []
   },
   "outputs": [
    {
     "name": "stdout",
     "output_type": "stream",
     "text": [
      "TFIDF model:> Train features shape: (67000, 153508)  Test features shape: (33000, 153508)\n"
     ]
    }
   ],
   "source": [
    "from sklearn.feature_extraction.text import TfidfVectorizer\n",
    "\n",
    "# build TF-IDF features on train articles\n",
    "tv = TfidfVectorizer(use_idf=True, min_df=0.0, max_df=1.0)\n",
    "tv_train_features = tv.fit_transform(train_corpus)\n",
    "# transform test articles into features\n",
    "tv_test_features = tv.transform(test_corpus)\n",
    "print('TFIDF model:> Train features shape:', tv_train_features.shape, ' Test features shape:', tv_test_features.shape)"
   ]
  },
  {
   "cell_type": "markdown",
   "id": "92a0a3f4-f424-4bd5-90a1-128a4cdf5658",
   "metadata": {},
   "source": [
    "## Multinomial Naive Bayes Model\n",
    "The Multinomial Naive Bayes model is a probabilistic classification algorithm based on Bayes' theorem, particularly suited for classification tasks with discrete features, such as word counts in text classification. Multinomial Naive Bayes predicts the likelihood of observing a feature (such as a word) given a class (such as a category) based on how often that feature appears in the training data for that class. It does this by referring to the probabilities learned during training. If a word appeared frequently in documents of a certain class during training, then the likelihood of observing that word in a new document of that class is considered high. Hence, Multinomial Naive Bayes models the joint probability of the input features and the class labels."
   ]
  },
  {
   "cell_type": "code",
   "execution_count": 28,
   "id": "141ddc37-b4ea-4e85-8156-c75aaae7cd2a",
   "metadata": {
    "tags": []
   },
   "outputs": [
    {
     "name": "stdout",
     "output_type": "stream",
     "text": [
      "CV Accuracy (5-fold): [0.94097015 0.94268657 0.93932836 0.94268657 0.94059701]\n",
      "Mean CV Accuracy: 0.9412537313432836\n",
      "Test Accuracy: 0.942030303030303\n"
     ]
    }
   ],
   "source": [
    "from sklearn.naive_bayes import MultinomialNB\n",
    "\n",
    "mnb = MultinomialNB(alpha=1)\n",
    "mnb.fit(cv_train_features, train_label_names)\n",
    "\n",
    "mnb_bow_cv_scores = cross_val_score(mnb, cv_train_features, train_label_names, cv=5)\n",
    "\n",
    "mnb_bow_cv_mean_score = np.mean(mnb_bow_cv_scores)\n",
    "print('CV Accuracy (5-fold):', mnb_bow_cv_scores)\n",
    "print('Mean CV Accuracy:', mnb_bow_cv_mean_score)\n",
    "mnb_bow_test_score = mnb.score(cv_test_features, test_label_names)\n",
    "print('Test Accuracy:', mnb_bow_test_score)"
   ]
  },
  {
   "cell_type": "code",
   "execution_count": 38,
   "id": "37809205-4173-4344-b4fc-25ced89de2df",
   "metadata": {
    "tags": []
   },
   "outputs": [
    {
     "name": "stdout",
     "output_type": "stream",
     "text": [
      "CV Accuracy (5-fold): [0.92440299 0.92462687 0.92291045 0.9241791  0.92522388]\n",
      "Mean CV Accuracy: 0.924268656716418\n",
      "Test Accuracy: 0.9215757575757576\n"
     ]
    }
   ],
   "source": [
    "from sklearn.naive_bayes import MultinomialNB\n",
    "from sklearn.model_selection import cross_val_score\n",
    "\n",
    "mnb = MultinomialNB(alpha=1)\n",
    "mnb.fit(tv_train_features, train_label_names)\n",
    "mnb_tfidf_cv_scores = cross_val_score(mnb, tv_train_features, train_label_names, cv=5)\n",
    "mnb_tfidf_cv_mean_score = np.mean(mnb_tfidf_cv_scores)\n",
    "print('CV Accuracy (5-fold):', mnb_tfidf_cv_scores)\n",
    "print('Mean CV Accuracy:', mnb_tfidf_cv_mean_score)\n",
    "mnb_tfidf_test_score = mnb.score(tv_test_features, test_label_names)\n",
    "print('Test Accuracy:', mnb_tfidf_test_score)"
   ]
  },
  {
   "cell_type": "markdown",
   "id": "ce101ec7-5d12-4ee1-8a67-4c7e84d9611e",
   "metadata": {
    "tags": []
   },
   "source": [
    "## Logistic Regression Model\n",
    "Logistic Regression is a supervised machine learning algorithm used for binary classification tasks, where the target variable has two possible outcomes. It estimates the conditional probability of each class given the input features directly from the data. These probabilities can be interpreted as the likelihood of an instance belonging to a particular class. Hence, Logistic regression directly models the conditional probability of each class given the input features"
   ]
  },
  {
   "cell_type": "code",
   "execution_count": 29,
   "id": "2fbd9faa-293d-48ce-8a92-9ac42db22316",
   "metadata": {
    "tags": []
   },
   "outputs": [
    {
     "name": "stderr",
     "output_type": "stream",
     "text": [
      "C:\\ProgramData\\anaconda3\\Lib\\site-packages\\sklearn\\linear_model\\_logistic.py:460: ConvergenceWarning: lbfgs failed to converge (status=1):\n",
      "STOP: TOTAL NO. of ITERATIONS REACHED LIMIT.\n",
      "\n",
      "Increase the number of iterations (max_iter) or scale the data as shown in:\n",
      "    https://scikit-learn.org/stable/modules/preprocessing.html\n",
      "Please also refer to the documentation for alternative solver options:\n",
      "    https://scikit-learn.org/stable/modules/linear_model.html#logistic-regression\n",
      "  n_iter_i = _check_optimize_result(\n",
      "C:\\ProgramData\\anaconda3\\Lib\\site-packages\\sklearn\\linear_model\\_logistic.py:460: ConvergenceWarning: lbfgs failed to converge (status=1):\n",
      "STOP: TOTAL NO. of ITERATIONS REACHED LIMIT.\n",
      "\n",
      "Increase the number of iterations (max_iter) or scale the data as shown in:\n",
      "    https://scikit-learn.org/stable/modules/preprocessing.html\n",
      "Please also refer to the documentation for alternative solver options:\n",
      "    https://scikit-learn.org/stable/modules/linear_model.html#logistic-regression\n",
      "  n_iter_i = _check_optimize_result(\n",
      "C:\\ProgramData\\anaconda3\\Lib\\site-packages\\sklearn\\linear_model\\_logistic.py:460: ConvergenceWarning: lbfgs failed to converge (status=1):\n",
      "STOP: TOTAL NO. of ITERATIONS REACHED LIMIT.\n",
      "\n",
      "Increase the number of iterations (max_iter) or scale the data as shown in:\n",
      "    https://scikit-learn.org/stable/modules/preprocessing.html\n",
      "Please also refer to the documentation for alternative solver options:\n",
      "    https://scikit-learn.org/stable/modules/linear_model.html#logistic-regression\n",
      "  n_iter_i = _check_optimize_result(\n",
      "C:\\ProgramData\\anaconda3\\Lib\\site-packages\\sklearn\\linear_model\\_logistic.py:460: ConvergenceWarning: lbfgs failed to converge (status=1):\n",
      "STOP: TOTAL NO. of ITERATIONS REACHED LIMIT.\n",
      "\n",
      "Increase the number of iterations (max_iter) or scale the data as shown in:\n",
      "    https://scikit-learn.org/stable/modules/preprocessing.html\n",
      "Please also refer to the documentation for alternative solver options:\n",
      "    https://scikit-learn.org/stable/modules/linear_model.html#logistic-regression\n",
      "  n_iter_i = _check_optimize_result(\n",
      "C:\\ProgramData\\anaconda3\\Lib\\site-packages\\sklearn\\linear_model\\_logistic.py:460: ConvergenceWarning: lbfgs failed to converge (status=1):\n",
      "STOP: TOTAL NO. of ITERATIONS REACHED LIMIT.\n",
      "\n",
      "Increase the number of iterations (max_iter) or scale the data as shown in:\n",
      "    https://scikit-learn.org/stable/modules/preprocessing.html\n",
      "Please also refer to the documentation for alternative solver options:\n",
      "    https://scikit-learn.org/stable/modules/linear_model.html#logistic-regression\n",
      "  n_iter_i = _check_optimize_result(\n"
     ]
    },
    {
     "name": "stdout",
     "output_type": "stream",
     "text": [
      "CV Accuracy (5-fold): [0.98029851 0.97835821 0.97798507 0.97671642 0.97723881]\n",
      "Mean CV Accuracy: 0.9781194029850747\n",
      "Test Accuracy: 0.9788484848484849\n"
     ]
    },
    {
     "name": "stderr",
     "output_type": "stream",
     "text": [
      "C:\\ProgramData\\anaconda3\\Lib\\site-packages\\sklearn\\linear_model\\_logistic.py:460: ConvergenceWarning: lbfgs failed to converge (status=1):\n",
      "STOP: TOTAL NO. of ITERATIONS REACHED LIMIT.\n",
      "\n",
      "Increase the number of iterations (max_iter) or scale the data as shown in:\n",
      "    https://scikit-learn.org/stable/modules/preprocessing.html\n",
      "Please also refer to the documentation for alternative solver options:\n",
      "    https://scikit-learn.org/stable/modules/linear_model.html#logistic-regression\n",
      "  n_iter_i = _check_optimize_result(\n"
     ]
    }
   ],
   "source": [
    "from sklearn.linear_model import LogisticRegression\n",
    "\n",
    "lr = LogisticRegression(penalty='l2', max_iter=100, C=1, random_state=42)\n",
    "lr.fit(cv_train_features, train_label_names)\n",
    "lr_bow_cv_scores = cross_val_score(lr, cv_train_features, train_label_names, cv=5)\n",
    "lr_bow_cv_mean_score = np.mean(lr_bow_cv_scores)\n",
    "print('CV Accuracy (5-fold):', lr_bow_cv_scores)\n",
    "print('Mean CV Accuracy:', lr_bow_cv_mean_score)\n",
    "lr_bow_test_score = lr.score(cv_test_features, test_label_names)\n",
    "print('Test Accuracy:', lr_bow_test_score)"
   ]
  },
  {
   "cell_type": "code",
   "execution_count": 39,
   "id": "b26004f8-f368-4591-9652-1396ea8c4603",
   "metadata": {
    "tags": []
   },
   "outputs": [
    {
     "name": "stderr",
     "output_type": "stream",
     "text": [
      "C:\\ProgramData\\anaconda3\\Lib\\site-packages\\sklearn\\linear_model\\_logistic.py:460: ConvergenceWarning: lbfgs failed to converge (status=1):\n",
      "STOP: TOTAL NO. of ITERATIONS REACHED LIMIT.\n",
      "\n",
      "Increase the number of iterations (max_iter) or scale the data as shown in:\n",
      "    https://scikit-learn.org/stable/modules/preprocessing.html\n",
      "Please also refer to the documentation for alternative solver options:\n",
      "    https://scikit-learn.org/stable/modules/linear_model.html#logistic-regression\n",
      "  n_iter_i = _check_optimize_result(\n",
      "C:\\ProgramData\\anaconda3\\Lib\\site-packages\\sklearn\\linear_model\\_logistic.py:460: ConvergenceWarning: lbfgs failed to converge (status=1):\n",
      "STOP: TOTAL NO. of ITERATIONS REACHED LIMIT.\n",
      "\n",
      "Increase the number of iterations (max_iter) or scale the data as shown in:\n",
      "    https://scikit-learn.org/stable/modules/preprocessing.html\n",
      "Please also refer to the documentation for alternative solver options:\n",
      "    https://scikit-learn.org/stable/modules/linear_model.html#logistic-regression\n",
      "  n_iter_i = _check_optimize_result(\n",
      "C:\\ProgramData\\anaconda3\\Lib\\site-packages\\sklearn\\linear_model\\_logistic.py:460: ConvergenceWarning: lbfgs failed to converge (status=1):\n",
      "STOP: TOTAL NO. of ITERATIONS REACHED LIMIT.\n",
      "\n",
      "Increase the number of iterations (max_iter) or scale the data as shown in:\n",
      "    https://scikit-learn.org/stable/modules/preprocessing.html\n",
      "Please also refer to the documentation for alternative solver options:\n",
      "    https://scikit-learn.org/stable/modules/linear_model.html#logistic-regression\n",
      "  n_iter_i = _check_optimize_result(\n",
      "C:\\ProgramData\\anaconda3\\Lib\\site-packages\\sklearn\\linear_model\\_logistic.py:460: ConvergenceWarning: lbfgs failed to converge (status=1):\n",
      "STOP: TOTAL NO. of ITERATIONS REACHED LIMIT.\n",
      "\n",
      "Increase the number of iterations (max_iter) or scale the data as shown in:\n",
      "    https://scikit-learn.org/stable/modules/preprocessing.html\n",
      "Please also refer to the documentation for alternative solver options:\n",
      "    https://scikit-learn.org/stable/modules/linear_model.html#logistic-regression\n",
      "  n_iter_i = _check_optimize_result(\n",
      "C:\\ProgramData\\anaconda3\\Lib\\site-packages\\sklearn\\linear_model\\_logistic.py:460: ConvergenceWarning: lbfgs failed to converge (status=1):\n",
      "STOP: TOTAL NO. of ITERATIONS REACHED LIMIT.\n",
      "\n",
      "Increase the number of iterations (max_iter) or scale the data as shown in:\n",
      "    https://scikit-learn.org/stable/modules/preprocessing.html\n",
      "Please also refer to the documentation for alternative solver options:\n",
      "    https://scikit-learn.org/stable/modules/linear_model.html#logistic-regression\n",
      "  n_iter_i = _check_optimize_result(\n"
     ]
    },
    {
     "name": "stdout",
     "output_type": "stream",
     "text": [
      "CV Accuracy (5-fold): [0.98201493 0.98216418 0.98156716 0.98104478 0.98238806]\n",
      "Mean CV Accuracy: 0.9818358208955225\n",
      "Test Accuracy: 0.9822121212121212\n"
     ]
    },
    {
     "name": "stderr",
     "output_type": "stream",
     "text": [
      "C:\\ProgramData\\anaconda3\\Lib\\site-packages\\sklearn\\linear_model\\_logistic.py:460: ConvergenceWarning: lbfgs failed to converge (status=1):\n",
      "STOP: TOTAL NO. of ITERATIONS REACHED LIMIT.\n",
      "\n",
      "Increase the number of iterations (max_iter) or scale the data as shown in:\n",
      "    https://scikit-learn.org/stable/modules/preprocessing.html\n",
      "Please also refer to the documentation for alternative solver options:\n",
      "    https://scikit-learn.org/stable/modules/linear_model.html#logistic-regression\n",
      "  n_iter_i = _check_optimize_result(\n"
     ]
    }
   ],
   "source": [
    "from sklearn.linear_model import LogisticRegression\n",
    "\n",
    "lr = LogisticRegression(penalty='l2', max_iter=100, C=1, random_state=42)\n",
    "lr.fit(tv_train_features, train_label_names)\n",
    "lr_tfidf_cv_scores = cross_val_score(lr, tv_train_features, train_label_names, cv=5)\n",
    "lr_tfidf_cv_mean_score = np.mean(lr_tfidf_cv_scores)\n",
    "print('CV Accuracy (5-fold):', lr_tfidf_cv_scores)\n",
    "print('Mean CV Accuracy:', lr_tfidf_cv_mean_score)\n",
    "lr_tfidf_test_score = lr.score(tv_test_features, test_label_names)\n",
    "print('Test Accuracy:', lr_tfidf_test_score)"
   ]
  },
  {
   "cell_type": "markdown",
   "id": "bb0d5653-e222-4abe-8a2b-e4431517fe35",
   "metadata": {},
   "source": [
    "## Stochastic Gradient Descent (SGD) Model\n",
    "SGD is an optimization algorithm commonly used to train machine learning models. It works by iteratively updating the model parameters to minimize a loss function by taking small steps in the direction of the steepest decrease of the loss. In each iteration, SGD computes the gradient of the loss function with respect to the parameters using a subset of the training data (a single data point or a small batch), rather than the entire dataset, until it find the most optimal solution."
   ]
  },
  {
   "cell_type": "code",
   "execution_count": 30,
   "id": "79f6b69c-0bfa-4222-841d-e725acb70d30",
   "metadata": {
    "tags": []
   },
   "outputs": [
    {
     "name": "stderr",
     "output_type": "stream",
     "text": [
      "C:\\ProgramData\\anaconda3\\Lib\\site-packages\\sklearn\\linear_model\\_stochastic_gradient.py:713: ConvergenceWarning: Maximum number of iteration reached before convergence. Consider increasing max_iter to improve the fit.\n",
      "  warnings.warn(\n",
      "C:\\ProgramData\\anaconda3\\Lib\\site-packages\\sklearn\\linear_model\\_stochastic_gradient.py:713: ConvergenceWarning: Maximum number of iteration reached before convergence. Consider increasing max_iter to improve the fit.\n",
      "  warnings.warn(\n",
      "C:\\ProgramData\\anaconda3\\Lib\\site-packages\\sklearn\\linear_model\\_stochastic_gradient.py:713: ConvergenceWarning: Maximum number of iteration reached before convergence. Consider increasing max_iter to improve the fit.\n",
      "  warnings.warn(\n",
      "C:\\ProgramData\\anaconda3\\Lib\\site-packages\\sklearn\\linear_model\\_stochastic_gradient.py:713: ConvergenceWarning: Maximum number of iteration reached before convergence. Consider increasing max_iter to improve the fit.\n",
      "  warnings.warn(\n",
      "C:\\ProgramData\\anaconda3\\Lib\\site-packages\\sklearn\\linear_model\\_stochastic_gradient.py:713: ConvergenceWarning: Maximum number of iteration reached before convergence. Consider increasing max_iter to improve the fit.\n",
      "  warnings.warn(\n"
     ]
    },
    {
     "name": "stdout",
     "output_type": "stream",
     "text": [
      "CV Accuracy (5-fold): [0.98007463 0.97910448 0.97895522 0.97656716 0.97723881]\n",
      "Mean CV Accuracy: 0.9783880597014925\n",
      "Test Accuracy: 0.9779696969696969\n"
     ]
    },
    {
     "name": "stderr",
     "output_type": "stream",
     "text": [
      "C:\\ProgramData\\anaconda3\\Lib\\site-packages\\sklearn\\linear_model\\_stochastic_gradient.py:713: ConvergenceWarning: Maximum number of iteration reached before convergence. Consider increasing max_iter to improve the fit.\n",
      "  warnings.warn(\n"
     ]
    }
   ],
   "source": [
    "from sklearn.linear_model import SGDClassifier\n",
    "\n",
    "svm_sgd = SGDClassifier(loss='hinge', penalty='l2', max_iter=5, random_state=42)\n",
    "svm_sgd.fit(cv_train_features, train_label_names)\n",
    "svmsgd_bow_cv_scores = cross_val_score(svm_sgd, cv_train_features, train_label_names, cv=5)\n",
    "svmsgd_bow_cv_mean_score = np.mean(svmsgd_bow_cv_scores)\n",
    "print('CV Accuracy (5-fold):', svmsgd_bow_cv_scores)\n",
    "print('Mean CV Accuracy:', svmsgd_bow_cv_mean_score)\n",
    "svmsgd_bow_test_score = svm_sgd.score(cv_test_features, test_label_names)\n",
    "print('Test Accuracy:', svmsgd_bow_test_score)"
   ]
  },
  {
   "cell_type": "code",
   "execution_count": 40,
   "id": "dcb1ca54-8495-4c29-925d-73c6d0958432",
   "metadata": {
    "tags": []
   },
   "outputs": [
    {
     "name": "stderr",
     "output_type": "stream",
     "text": [
      "C:\\ProgramData\\anaconda3\\Lib\\site-packages\\sklearn\\linear_model\\_stochastic_gradient.py:713: ConvergenceWarning: Maximum number of iteration reached before convergence. Consider increasing max_iter to improve the fit.\n",
      "  warnings.warn(\n",
      "C:\\ProgramData\\anaconda3\\Lib\\site-packages\\sklearn\\linear_model\\_stochastic_gradient.py:713: ConvergenceWarning: Maximum number of iteration reached before convergence. Consider increasing max_iter to improve the fit.\n",
      "  warnings.warn(\n",
      "C:\\ProgramData\\anaconda3\\Lib\\site-packages\\sklearn\\linear_model\\_stochastic_gradient.py:713: ConvergenceWarning: Maximum number of iteration reached before convergence. Consider increasing max_iter to improve the fit.\n",
      "  warnings.warn(\n",
      "C:\\ProgramData\\anaconda3\\Lib\\site-packages\\sklearn\\linear_model\\_stochastic_gradient.py:713: ConvergenceWarning: Maximum number of iteration reached before convergence. Consider increasing max_iter to improve the fit.\n",
      "  warnings.warn(\n",
      "C:\\ProgramData\\anaconda3\\Lib\\site-packages\\sklearn\\linear_model\\_stochastic_gradient.py:713: ConvergenceWarning: Maximum number of iteration reached before convergence. Consider increasing max_iter to improve the fit.\n",
      "  warnings.warn(\n"
     ]
    },
    {
     "name": "stdout",
     "output_type": "stream",
     "text": [
      "CV Accuracy (5-fold): [0.98298507 0.9838806  0.98298507 0.98283582 0.98313433]\n",
      "Mean CV Accuracy: 0.9831641791044776\n",
      "Test Accuracy: 0.9826969696969697\n"
     ]
    },
    {
     "name": "stderr",
     "output_type": "stream",
     "text": [
      "C:\\ProgramData\\anaconda3\\Lib\\site-packages\\sklearn\\linear_model\\_stochastic_gradient.py:713: ConvergenceWarning: Maximum number of iteration reached before convergence. Consider increasing max_iter to improve the fit.\n",
      "  warnings.warn(\n"
     ]
    }
   ],
   "source": [
    "from sklearn.linear_model import SGDClassifier\n",
    "\n",
    "svm_sgd = SGDClassifier(loss='hinge', penalty='l2', max_iter=5, random_state=42)\n",
    "svm_sgd.fit(tv_train_features, train_label_names)\n",
    "svmsgd_tfidf_cv_scores = cross_val_score(svm_sgd, tv_train_features, train_label_names, cv=5)\n",
    "svmsgd_tfidf_cv_mean_score = np.mean(svmsgd_tfidf_cv_scores)\n",
    "print('CV Accuracy (5-fold):', svmsgd_tfidf_cv_scores)\n",
    "print('Mean CV Accuracy:', svmsgd_tfidf_cv_mean_score)\n",
    "svmsgd_tfidf_test_score = svm_sgd.score(tv_test_features, test_label_names)\n",
    "print('Test Accuracy:', svmsgd_tfidf_test_score)"
   ]
  },
  {
   "cell_type": "markdown",
   "id": "239e962c-63b4-4e70-ada9-a572c374082d",
   "metadata": {},
   "source": [
    "## Random Forest Classifier Model\n",
    "Random Forest is a versatile and powerful ensemble learning algorithm that can be used for both classification and regression tasks. At the core of Random Forest is the decision tree, which is a tree-like structure comprising nodes and branches.\n",
    "Each internal node of the tree represents a decision based on the value of a feature, and each leaf node represents the output (class label for classification, or continuous value for regression). Random Forest builds multiple decision trees by randomly selecting subsets of the training data (with replacement) and a subset of the input features at each split point.\n",
    "This process introduces randomness into the model, which helps reduce overfitting and improves generalization performance. The final prediction is determined by aggregating the individual predictions through a voting mechanism, where the class with the most votes (mode) across all trees is chosen.\n",
    "\n",
    "\n",
    "*Ensemble learning is a machine learning technique that enhances accuracy and resilience in forecasting by merging predictions from multiple models*"
   ]
  },
  {
   "cell_type": "code",
   "execution_count": 31,
   "id": "ca267943-acec-41e4-9a88-92b84980f1b6",
   "metadata": {
    "tags": []
   },
   "outputs": [
    {
     "name": "stdout",
     "output_type": "stream",
     "text": [
      "CV Accuracy (5-fold): [0.88059701 0.87440299 0.88925373 0.88029851 0.88776119]\n",
      "Mean CV Accuracy: 0.8824626865671643\n",
      "Test Accuracy: 0.8899090909090909\n"
     ]
    }
   ],
   "source": [
    "from sklearn.ensemble import RandomForestClassifier\n",
    "\n",
    "rfc = RandomForestClassifier(n_estimators=10, random_state=42)\n",
    "rfc.fit(cv_train_features, train_label_names)\n",
    "rfc_bow_cv_scores = cross_val_score(rfc, cv_train_features, train_label_names, cv=5)\n",
    "rfc_bow_cv_mean_score = np.mean(rfc_bow_cv_scores)\n",
    "print('CV Accuracy (5-fold):', rfc_bow_cv_scores)\n",
    "print('Mean CV Accuracy:', rfc_bow_cv_mean_score)\n",
    "rfc_bow_test_score = rfc.score(cv_test_features, test_label_names)\n",
    "print('Test Accuracy:', rfc_bow_test_score)"
   ]
  },
  {
   "cell_type": "code",
   "execution_count": 41,
   "id": "f2a52f21-5f5f-4aa7-9607-973e4160f945",
   "metadata": {
    "tags": []
   },
   "outputs": [
    {
     "name": "stdout",
     "output_type": "stream",
     "text": [
      "CV Accuracy (5-fold): [0.88492537 0.87440299 0.89895522 0.86231343 0.87910448]\n",
      "Mean CV Accuracy: 0.8799402985074627\n",
      "Test Accuracy: 0.8844848484848484\n"
     ]
    }
   ],
   "source": [
    "from sklearn.ensemble import RandomForestClassifier\n",
    "\n",
    "rfc = RandomForestClassifier(n_estimators=10, random_state=42)\n",
    "rfc.fit(tv_train_features, train_label_names)\n",
    "rfc_tfidf_cv_scores = cross_val_score(rfc, tv_train_features, train_label_names, cv=5)\n",
    "rfc_tfidf_cv_mean_score = np.mean(rfc_tfidf_cv_scores)\n",
    "print('CV Accuracy (5-fold):', rfc_tfidf_cv_scores)\n",
    "print('Mean CV Accuracy:', rfc_tfidf_cv_mean_score)\n",
    "rfc_tfidf_test_score = rfc.score(tv_test_features, test_label_names)\n",
    "print('Test Accuracy:', rfc_tfidf_test_score)"
   ]
  },
  {
   "cell_type": "markdown",
   "id": "0728c1a9-8347-423c-9aba-aca9a91df6b8",
   "metadata": {},
   "source": [
    "## Gradient Boosting Classifier Model\n",
    "Gradient Boosting Classifier is a powerful machine learning algorithm that belongs to the ensemble learning family, similar to Random Forest. Unlike Random Forest, where trees are trained independently, Gradient Boosting builds trees in a sequential manner, with each tree learning from the mistakes of its predecessors. Gradient Boosting builds an ensemble of weak learners (typically decision trees) sequentially, with each subsequent learner aiming to correct the errors made by the previous ones. By iteratively adding weak learners, the ensemble gradually improves its performance on the training data.\n",
    "\n",
    "*A \"weak learner\" refers to a simple model or algorithm that performs slightly better than random guessing on a classification or regression task. Weak learners are often used as building blocks in ensemble learning methods such as boosting.*\n",
    "\n",
    "*The term \"weak\" doesn't imply that the model is inherently poor or ineffective. Instead, it indicates that the model's predictive power is limited, either because it's relatively simple or because it's trained on a subset of the data.*"
   ]
  },
  {
   "cell_type": "code",
   "execution_count": 32,
   "id": "2ebbefe3-a2bf-40bf-adc4-7d2d8dfb862a",
   "metadata": {
    "tags": []
   },
   "outputs": [
    {
     "name": "stdout",
     "output_type": "stream",
     "text": [
      "CV Accuracy (5-fold): [0.96858209 0.97141791 0.96619403 0.96529851 0.96977612]\n",
      "Mean CV Accuracy: 0.9682537313432835\n",
      "Test Accuracy: 0.9684545454545455\n"
     ]
    }
   ],
   "source": [
    "from sklearn.ensemble import GradientBoostingClassifier\n",
    "\n",
    "gbc = GradientBoostingClassifier(n_estimators=10, random_state=42)\n",
    "gbc.fit(cv_train_features, train_label_names)\n",
    "gbc_bow_cv_scores = cross_val_score(gbc, cv_train_features, train_label_names, cv=5)\n",
    "gbc_bow_cv_mean_score = np.mean(gbc_bow_cv_scores)\n",
    "print('CV Accuracy (5-fold):', gbc_bow_cv_scores)\n",
    "print('Mean CV Accuracy:', gbc_bow_cv_mean_score)\n",
    "gbc_bow_test_score = gbc.score(cv_test_features, test_label_names)\n",
    "print('Test Accuracy:', gbc_bow_test_score)"
   ]
  },
  {
   "cell_type": "code",
   "execution_count": 42,
   "id": "b8ea79e8-7269-4090-bfcc-c7168a3aa4b3",
   "metadata": {
    "tags": []
   },
   "outputs": [
    {
     "name": "stdout",
     "output_type": "stream",
     "text": [
      "CV Accuracy (5-fold): [0.97029851 0.96977612 0.9680597  0.96597015 0.96902985]\n",
      "Mean CV Accuracy: 0.9686268656716418\n",
      "Test Accuracy: 0.9691818181818181\n"
     ]
    }
   ],
   "source": [
    "from sklearn.ensemble import GradientBoostingClassifier\n",
    "\n",
    "gbc = GradientBoostingClassifier(n_estimators=10, random_state=42)\n",
    "gbc.fit(tv_train_features, train_label_names)\n",
    "gbc_tfidf_cv_scores = cross_val_score(gbc, tv_train_features, train_label_names, cv=5)\n",
    "gbc_tfidf_cv_mean_score = np.mean(gbc_tfidf_cv_scores)\n",
    "print('CV Accuracy (5-fold):', gbc_tfidf_cv_scores)\n",
    "print('Mean CV Accuracy:', gbc_tfidf_cv_mean_score)\n",
    "gbc_tfidf_test_score = gbc.score(tv_test_features, test_label_names)\n",
    "print('Test Accuracy:', gbc_tfidf_test_score)"
   ]
  },
  {
   "cell_type": "markdown",
   "id": "ad558db0-be70-4252-b076-bdecd490946b",
   "metadata": {},
   "source": [
    "## Linear Support Vector Classifier Model\n",
    "A Linear Support Vector Classifier (Linear SVC) is a type of Support Vector Machine (SVM) specifically designed for linear classification tasks. SVM is a supervised learning algorithm used for classification and regression tasks. It works by finding the hyperplane that best separates the classes in the feature space. The best hyperplane is the one that maximizes the margin, which is the distance between the hyperplane and the nearest data points from each class (these points are called support vectors)."
   ]
  },
  {
   "cell_type": "code",
   "execution_count": 34,
   "id": "cb9ce917-5a02-48a0-bf5c-d01211013fbe",
   "metadata": {
    "tags": []
   },
   "outputs": [
    {
     "name": "stderr",
     "output_type": "stream",
     "text": [
      "C:\\ProgramData\\anaconda3\\Lib\\site-packages\\sklearn\\svm\\_classes.py:32: FutureWarning: The default value of `dual` will change from `True` to `'auto'` in 1.5. Set the value of `dual` explicitly to suppress the warning.\n",
      "  warnings.warn(\n",
      "C:\\ProgramData\\anaconda3\\Lib\\site-packages\\sklearn\\svm\\_base.py:1242: ConvergenceWarning: Liblinear failed to converge, increase the number of iterations.\n",
      "  warnings.warn(\n",
      "C:\\ProgramData\\anaconda3\\Lib\\site-packages\\sklearn\\svm\\_classes.py:32: FutureWarning: The default value of `dual` will change from `True` to `'auto'` in 1.5. Set the value of `dual` explicitly to suppress the warning.\n",
      "  warnings.warn(\n",
      "C:\\ProgramData\\anaconda3\\Lib\\site-packages\\sklearn\\svm\\_base.py:1242: ConvergenceWarning: Liblinear failed to converge, increase the number of iterations.\n",
      "  warnings.warn(\n",
      "C:\\ProgramData\\anaconda3\\Lib\\site-packages\\sklearn\\svm\\_classes.py:32: FutureWarning: The default value of `dual` will change from `True` to `'auto'` in 1.5. Set the value of `dual` explicitly to suppress the warning.\n",
      "  warnings.warn(\n",
      "C:\\ProgramData\\anaconda3\\Lib\\site-packages\\sklearn\\svm\\_base.py:1242: ConvergenceWarning: Liblinear failed to converge, increase the number of iterations.\n",
      "  warnings.warn(\n",
      "C:\\ProgramData\\anaconda3\\Lib\\site-packages\\sklearn\\svm\\_classes.py:32: FutureWarning: The default value of `dual` will change from `True` to `'auto'` in 1.5. Set the value of `dual` explicitly to suppress the warning.\n",
      "  warnings.warn(\n",
      "C:\\ProgramData\\anaconda3\\Lib\\site-packages\\sklearn\\svm\\_base.py:1242: ConvergenceWarning: Liblinear failed to converge, increase the number of iterations.\n",
      "  warnings.warn(\n",
      "C:\\ProgramData\\anaconda3\\Lib\\site-packages\\sklearn\\svm\\_classes.py:32: FutureWarning: The default value of `dual` will change from `True` to `'auto'` in 1.5. Set the value of `dual` explicitly to suppress the warning.\n",
      "  warnings.warn(\n",
      "C:\\ProgramData\\anaconda3\\Lib\\site-packages\\sklearn\\svm\\_base.py:1242: ConvergenceWarning: Liblinear failed to converge, increase the number of iterations.\n",
      "  warnings.warn(\n",
      "C:\\ProgramData\\anaconda3\\Lib\\site-packages\\sklearn\\svm\\_classes.py:32: FutureWarning: The default value of `dual` will change from `True` to `'auto'` in 1.5. Set the value of `dual` explicitly to suppress the warning.\n",
      "  warnings.warn(\n"
     ]
    },
    {
     "name": "stdout",
     "output_type": "stream",
     "text": [
      "CV Accuracy (5-fold): [0.97708955 0.9761194  0.97589552 0.97395522 0.97485075]\n",
      "Mean CV Accuracy: 0.9755820895522387\n",
      "Test Accuracy: 0.9762121212121212\n"
     ]
    },
    {
     "name": "stderr",
     "output_type": "stream",
     "text": [
      "C:\\ProgramData\\anaconda3\\Lib\\site-packages\\sklearn\\svm\\_base.py:1242: ConvergenceWarning: Liblinear failed to converge, increase the number of iterations.\n",
      "  warnings.warn(\n"
     ]
    }
   ],
   "source": [
    "from sklearn.svm import LinearSVC\n",
    "\n",
    "svm = LinearSVC(penalty='l2', C=1, random_state=42)\n",
    "svm.fit(cv_train_features, train_label_names)\n",
    "svm_bow_cv_scores = cross_val_score(svm, cv_train_features, train_label_names, cv=5)\n",
    "svm_bow_cv_mean_score = np.mean(svm_bow_cv_scores)\n",
    "print('CV Accuracy (5-fold):', svm_bow_cv_scores)\n",
    "print('Mean CV Accuracy:', svm_bow_cv_mean_score)\n",
    "svm_bow_test_score = svm.score(cv_test_features, test_label_names)\n",
    "print('Test Accuracy:', svm_bow_test_score)"
   ]
  },
  {
   "cell_type": "code",
   "execution_count": 43,
   "id": "c3155681-2a5a-4b5b-ba3a-04e7cb816cf9",
   "metadata": {
    "tags": []
   },
   "outputs": [
    {
     "name": "stderr",
     "output_type": "stream",
     "text": [
      "C:\\ProgramData\\anaconda3\\Lib\\site-packages\\sklearn\\svm\\_classes.py:32: FutureWarning: The default value of `dual` will change from `True` to `'auto'` in 1.5. Set the value of `dual` explicitly to suppress the warning.\n",
      "  warnings.warn(\n",
      "C:\\ProgramData\\anaconda3\\Lib\\site-packages\\sklearn\\svm\\_classes.py:32: FutureWarning: The default value of `dual` will change from `True` to `'auto'` in 1.5. Set the value of `dual` explicitly to suppress the warning.\n",
      "  warnings.warn(\n",
      "C:\\ProgramData\\anaconda3\\Lib\\site-packages\\sklearn\\svm\\_classes.py:32: FutureWarning: The default value of `dual` will change from `True` to `'auto'` in 1.5. Set the value of `dual` explicitly to suppress the warning.\n",
      "  warnings.warn(\n",
      "C:\\ProgramData\\anaconda3\\Lib\\site-packages\\sklearn\\svm\\_classes.py:32: FutureWarning: The default value of `dual` will change from `True` to `'auto'` in 1.5. Set the value of `dual` explicitly to suppress the warning.\n",
      "  warnings.warn(\n",
      "C:\\ProgramData\\anaconda3\\Lib\\site-packages\\sklearn\\svm\\_classes.py:32: FutureWarning: The default value of `dual` will change from `True` to `'auto'` in 1.5. Set the value of `dual` explicitly to suppress the warning.\n",
      "  warnings.warn(\n",
      "C:\\ProgramData\\anaconda3\\Lib\\site-packages\\sklearn\\svm\\_classes.py:32: FutureWarning: The default value of `dual` will change from `True` to `'auto'` in 1.5. Set the value of `dual` explicitly to suppress the warning.\n",
      "  warnings.warn(\n"
     ]
    },
    {
     "name": "stdout",
     "output_type": "stream",
     "text": [
      "CV Accuracy (5-fold): [0.98216418 0.98246269 0.98171642 0.98156716 0.98283582]\n",
      "Mean CV Accuracy: 0.9821492537313432\n",
      "Test Accuracy: 0.9821212121212122\n"
     ]
    }
   ],
   "source": [
    "from sklearn.svm import LinearSVC\n",
    "\n",
    "svm = LinearSVC(penalty='l2', C=1, random_state=42)\n",
    "svm.fit(tv_train_features, train_label_names)\n",
    "svm_tfidf_cv_scores = cross_val_score(svm, tv_train_features, train_label_names, cv=5)\n",
    "svm_tfidf_cv_mean_score = np.mean(svm_tfidf_cv_scores)\n",
    "print('CV Accuracy (5-fold):', svm_tfidf_cv_scores)\n",
    "print('Mean CV Accuracy:', svm_tfidf_cv_mean_score)\n",
    "svm_tfidf_test_score = svm.score(tv_test_features, test_label_names)\n",
    "print('Test Accuracy:', svm_tfidf_test_score)"
   ]
  },
  {
   "cell_type": "code",
   "execution_count": 35,
   "id": "253fe472-566f-4936-8ef5-73231ea33d1c",
   "metadata": {
    "tags": []
   },
   "outputs": [
    {
     "data": {
      "text/html": [
       "<div>\n",
       "<style scoped>\n",
       "    .dataframe tbody tr th:only-of-type {\n",
       "        vertical-align: middle;\n",
       "    }\n",
       "\n",
       "    .dataframe tbody tr th {\n",
       "        vertical-align: top;\n",
       "    }\n",
       "\n",
       "    .dataframe thead th {\n",
       "        text-align: right;\n",
       "    }\n",
       "</style>\n",
       "<table border=\"1\" class=\"dataframe\">\n",
       "  <thead>\n",
       "    <tr style=\"text-align: right;\">\n",
       "      <th></th>\n",
       "      <th>Model</th>\n",
       "      <th>CV Score (TF)</th>\n",
       "      <th>Test Score (TF)</th>\n",
       "    </tr>\n",
       "  </thead>\n",
       "  <tbody>\n",
       "    <tr>\n",
       "      <th>0</th>\n",
       "      <td>Naive Bayes</td>\n",
       "      <td>0.941254</td>\n",
       "      <td>0.942030</td>\n",
       "    </tr>\n",
       "    <tr>\n",
       "      <th>1</th>\n",
       "      <td>Logistic Regression</td>\n",
       "      <td>0.978119</td>\n",
       "      <td>0.978848</td>\n",
       "    </tr>\n",
       "    <tr>\n",
       "      <th>2</th>\n",
       "      <td>Linear SVM</td>\n",
       "      <td>0.975582</td>\n",
       "      <td>0.976212</td>\n",
       "    </tr>\n",
       "    <tr>\n",
       "      <th>3</th>\n",
       "      <td>Linear SVM (SGD)</td>\n",
       "      <td>0.978388</td>\n",
       "      <td>0.977970</td>\n",
       "    </tr>\n",
       "    <tr>\n",
       "      <th>4</th>\n",
       "      <td>Random Forest</td>\n",
       "      <td>0.882463</td>\n",
       "      <td>0.889909</td>\n",
       "    </tr>\n",
       "    <tr>\n",
       "      <th>5</th>\n",
       "      <td>Gradient Boosted Machines</td>\n",
       "      <td>0.968254</td>\n",
       "      <td>0.968455</td>\n",
       "    </tr>\n",
       "  </tbody>\n",
       "</table>\n",
       "</div>"
      ],
      "text/plain": [
       "                       Model  CV Score (TF)  Test Score (TF)\n",
       "0                Naive Bayes       0.941254         0.942030\n",
       "1        Logistic Regression       0.978119         0.978848\n",
       "2                 Linear SVM       0.975582         0.976212\n",
       "3           Linear SVM (SGD)       0.978388         0.977970\n",
       "4              Random Forest       0.882463         0.889909\n",
       "5  Gradient Boosted Machines       0.968254         0.968455"
      ]
     },
     "execution_count": 35,
     "metadata": {},
     "output_type": "execute_result"
    }
   ],
   "source": [
    "pd.DataFrame([['Naive Bayes', mnb_bow_cv_mean_score, mnb_bow_test_score],\n",
    "              ['Logistic Regression', lr_bow_cv_mean_score, lr_bow_test_score],\n",
    "              ['Linear SVM', svm_bow_cv_mean_score, svm_bow_test_score],\n",
    "              ['Linear SVM (SGD)', svmsgd_bow_cv_mean_score, svmsgd_bow_test_score],\n",
    "              ['Random Forest', rfc_bow_cv_mean_score, rfc_bow_test_score],\n",
    "              ['Gradient Boosted Machines', gbc_bow_cv_mean_score, gbc_bow_test_score]],\n",
    "             columns=['Model', 'CV Score (TF)', 'Test Score (TF)'],\n",
    "             )"
   ]
  },
  {
   "cell_type": "code",
   "execution_count": 36,
   "id": "45164ec0-de89-4dbe-8a8f-07b9ac42f7db",
   "metadata": {
    "tags": []
   },
   "outputs": [
    {
     "data": {
      "text/html": [
       "<div>\n",
       "<style scoped>\n",
       "    .dataframe tbody tr th:only-of-type {\n",
       "        vertical-align: middle;\n",
       "    }\n",
       "\n",
       "    .dataframe tbody tr th {\n",
       "        vertical-align: top;\n",
       "    }\n",
       "\n",
       "    .dataframe thead th {\n",
       "        text-align: right;\n",
       "    }\n",
       "</style>\n",
       "<table border=\"1\" class=\"dataframe\">\n",
       "  <thead>\n",
       "    <tr style=\"text-align: right;\">\n",
       "      <th></th>\n",
       "      <th>0</th>\n",
       "      <th>1</th>\n",
       "      <th>2</th>\n",
       "      <th>3</th>\n",
       "      <th>4</th>\n",
       "      <th>5</th>\n",
       "    </tr>\n",
       "  </thead>\n",
       "  <tbody>\n",
       "    <tr>\n",
       "      <th>Model</th>\n",
       "      <td>Naive Bayes</td>\n",
       "      <td>Logistic Regression</td>\n",
       "      <td>Linear SVM</td>\n",
       "      <td>Linear SVM (SGD)</td>\n",
       "      <td>Random Forest</td>\n",
       "      <td>Gradient Boosted Machines</td>\n",
       "    </tr>\n",
       "    <tr>\n",
       "      <th>CV Score (TF)</th>\n",
       "      <td>0.941254</td>\n",
       "      <td>0.978119</td>\n",
       "      <td>0.975582</td>\n",
       "      <td>0.978388</td>\n",
       "      <td>0.882463</td>\n",
       "      <td>0.968254</td>\n",
       "    </tr>\n",
       "    <tr>\n",
       "      <th>Test Score (TF)</th>\n",
       "      <td>0.94203</td>\n",
       "      <td>0.978848</td>\n",
       "      <td>0.976212</td>\n",
       "      <td>0.97797</td>\n",
       "      <td>0.889909</td>\n",
       "      <td>0.968455</td>\n",
       "    </tr>\n",
       "  </tbody>\n",
       "</table>\n",
       "</div>"
      ],
      "text/plain": [
       "                           0                    1           2  \\\n",
       "Model            Naive Bayes  Logistic Regression  Linear SVM   \n",
       "CV Score (TF)       0.941254             0.978119    0.975582   \n",
       "Test Score (TF)      0.94203             0.978848    0.976212   \n",
       "\n",
       "                                3              4                          5  \n",
       "Model            Linear SVM (SGD)  Random Forest  Gradient Boosted Machines  \n",
       "CV Score (TF)            0.978388       0.882463                   0.968254  \n",
       "Test Score (TF)           0.97797       0.889909                   0.968455  "
      ]
     },
     "execution_count": 36,
     "metadata": {},
     "output_type": "execute_result"
    }
   ],
   "source": [
    "pd.DataFrame([['Naive Bayes', mnb_bow_cv_mean_score, mnb_bow_test_score],\n",
    "              ['Logistic Regression', lr_bow_cv_mean_score, lr_bow_test_score],\n",
    "              ['Linear SVM', svm_bow_cv_mean_score, svm_bow_test_score],\n",
    "              ['Linear SVM (SGD)', svmsgd_bow_cv_mean_score, svmsgd_bow_test_score],\n",
    "              ['Random Forest', rfc_bow_cv_mean_score, rfc_bow_test_score],\n",
    "              ['Gradient Boosted Machines', gbc_bow_cv_mean_score, gbc_bow_test_score]],\n",
    "             columns=['Model', 'CV Score (TF)', 'Test Score (TF)'],\n",
    "             ).T"
   ]
  },
  {
   "cell_type": "code",
   "execution_count": 44,
   "id": "56e7e9d9-25a6-437a-bb8d-a23c8847e344",
   "metadata": {
    "tags": []
   },
   "outputs": [
    {
     "data": {
      "text/html": [
       "<div>\n",
       "<style scoped>\n",
       "    .dataframe tbody tr th:only-of-type {\n",
       "        vertical-align: middle;\n",
       "    }\n",
       "\n",
       "    .dataframe tbody tr th {\n",
       "        vertical-align: top;\n",
       "    }\n",
       "\n",
       "    .dataframe thead th {\n",
       "        text-align: right;\n",
       "    }\n",
       "</style>\n",
       "<table border=\"1\" class=\"dataframe\">\n",
       "  <thead>\n",
       "    <tr style=\"text-align: right;\">\n",
       "      <th></th>\n",
       "      <th>Model</th>\n",
       "      <th>CV Score (TF-IDF)</th>\n",
       "      <th>Test Score (TF-IDF)</th>\n",
       "    </tr>\n",
       "  </thead>\n",
       "  <tbody>\n",
       "    <tr>\n",
       "      <th>0</th>\n",
       "      <td>Naive Bayes</td>\n",
       "      <td>0.924269</td>\n",
       "      <td>0.921576</td>\n",
       "    </tr>\n",
       "    <tr>\n",
       "      <th>1</th>\n",
       "      <td>Logistic Regression</td>\n",
       "      <td>0.981836</td>\n",
       "      <td>0.982212</td>\n",
       "    </tr>\n",
       "    <tr>\n",
       "      <th>2</th>\n",
       "      <td>Linear SVM</td>\n",
       "      <td>0.982149</td>\n",
       "      <td>0.982121</td>\n",
       "    </tr>\n",
       "    <tr>\n",
       "      <th>3</th>\n",
       "      <td>Linear SVM (SGD)</td>\n",
       "      <td>0.983164</td>\n",
       "      <td>0.982697</td>\n",
       "    </tr>\n",
       "    <tr>\n",
       "      <th>4</th>\n",
       "      <td>Random Forest</td>\n",
       "      <td>0.879940</td>\n",
       "      <td>0.884485</td>\n",
       "    </tr>\n",
       "    <tr>\n",
       "      <th>5</th>\n",
       "      <td>Gradient Boosted Machines</td>\n",
       "      <td>0.968627</td>\n",
       "      <td>0.969182</td>\n",
       "    </tr>\n",
       "  </tbody>\n",
       "</table>\n",
       "</div>"
      ],
      "text/plain": [
       "                       Model  CV Score (TF-IDF)  Test Score (TF-IDF)\n",
       "0                Naive Bayes           0.924269             0.921576\n",
       "1        Logistic Regression           0.981836             0.982212\n",
       "2                 Linear SVM           0.982149             0.982121\n",
       "3           Linear SVM (SGD)           0.983164             0.982697\n",
       "4              Random Forest           0.879940             0.884485\n",
       "5  Gradient Boosted Machines           0.968627             0.969182"
      ]
     },
     "execution_count": 44,
     "metadata": {},
     "output_type": "execute_result"
    }
   ],
   "source": [
    "pd.DataFrame([['Naive Bayes', \n",
    "               mnb_tfidf_cv_mean_score, mnb_tfidf_test_score],\n",
    "              ['Logistic Regression', \n",
    "               lr_tfidf_cv_mean_score, lr_tfidf_test_score],\n",
    "              ['Linear SVM', \n",
    "               svm_tfidf_cv_mean_score, svm_tfidf_test_score],\n",
    "              ['Linear SVM (SGD)',  \n",
    "               svmsgd_tfidf_cv_mean_score, svmsgd_tfidf_test_score],\n",
    "              ['Random Forest', \n",
    "               rfc_tfidf_cv_mean_score, rfc_tfidf_test_score],\n",
    "              ['Gradient Boosted Machines', \n",
    "               gbc_tfidf_cv_mean_score, gbc_tfidf_test_score]],\n",
    "             columns=['Model',  'CV Score (TF-IDF)', 'Test Score (TF-IDF)'],\n",
    "             )"
   ]
  }
 ],
 "metadata": {
  "kernelspec": {
   "display_name": "Python 3 (ipykernel)",
   "language": "python",
   "name": "python3"
  },
  "language_info": {
   "codemirror_mode": {
    "name": "ipython",
    "version": 3
   },
   "file_extension": ".py",
   "mimetype": "text/x-python",
   "name": "python",
   "nbconvert_exporter": "python",
   "pygments_lexer": "ipython3",
   "version": "3.11.4"
  }
 },
 "nbformat": 4,
 "nbformat_minor": 5
}
