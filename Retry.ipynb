{
 "cells": [
  {
   "cell_type": "markdown",
   "id": "d0a42df2",
   "metadata": {},
   "source": [
    "First of all, we will designate the input and output directory for the source files. When we download the PubMed articles, the files were downloaded as .txt files. We will convert it into xlsx files for every cancer types."
   ]
  },
  {
   "cell_type": "code",
   "execution_count": 1,
   "id": "e38ef78a",
   "metadata": {
    "tags": []
   },
   "outputs": [],
   "source": [
    "# Breast cancer\n",
    "input_txt_breast_cancer = 'source_files_txt/breast_cancer.txt'\n",
    "output_xlsx_breast_cancer = 'source_files_xlsx/breast_cancer.xlsx'\n",
    "\n",
    "# lung cancer\n",
    "input_txt_lung_cancer = 'source_files_txt/lung_cancer.txt'\n",
    "output_xlsx_lung_cancer = 'source_files_xlsx/lung_cancer.xlsx'\n",
    "\n",
    "# Colorectal cancer\n",
    "input_txt_colorectal_cancer = 'source_files_txt/colorectal_cancer.txt'\n",
    "output_xlsx_colorectal_cancer = 'source_files_xlsx/colorectal_cancer.xlsx'\n",
    "\n",
    "# Prostate cancer\n",
    "input_txt_prostate_cancer = 'source_files_txt/prostate_cancer.txt'\n",
    "output_xlsx_prostate_cancer = 'source_files_xlsx/prostate_cancer.xlsx'\n",
    "\n",
    "# Stomach cancer\n",
    "input_txt_stomach_cancer = 'source_files_txt/stomach_cancer.txt'\n",
    "output_xlsx_stomach_cancer = 'source_files_xlsx/stomach_cancer.xlsx'\n",
    "\n",
    "# Liver cancer\n",
    "input_txt_liver_cancer = 'source_files_txt/liver_cancer.txt'\n",
    "output_xlsx_liver_cancer = 'source_files_xlsx/liver_cancer.xlsx'\n",
    "\n",
    "# Cervix cancer\n",
    "input_txt_cervix_cancer = 'source_files_txt/cervix_cancer.txt'\n",
    "output_xlsx_cervix_cancer = 'source_files_xlsx/cervix_cancer.xlsx'\n",
    "\n",
    "# Oesophagus cancer\n",
    "input_txt_oesophagus_cancer = 'source_files_txt/oesophagus_cancer.txt'\n",
    "output_xlsx_oesophagus_cancer = 'source_files_xlsx/oesophagus_cancer.xlsx'\n",
    "\n",
    "# Thyroid cancer\n",
    "input_txt_thyroid_cancer = 'source_files_txt/thyroid_cancer.txt'\n",
    "output_xlsx_thyroid_cancer = 'source_files_xlsx/thyroid_cancer.xlsx'\n",
    "\n",
    "# Bladder cancer\n",
    "input_txt_bladder_cancer = 'source_files_txt/bladder_cancer.txt'\n",
    "output_xlsx_bladder_cancer = 'source_files_xlsx/bladder_cancer.xlsx'\n",
    "\n",
    "input_txt_files = [\n",
    "    input_txt_breast_cancer, input_txt_lung_cancer, input_txt_colorectal_cancer, input_txt_prostate_cancer,\n",
    "    input_txt_stomach_cancer, input_txt_liver_cancer, input_txt_cervix_cancer, input_txt_oesophagus_cancer,\n",
    "    input_txt_thyroid_cancer, input_txt_bladder_cancer\n",
    "]\n",
    "\n",
    "output_xlsx_files = [\n",
    "    output_xlsx_breast_cancer, output_xlsx_lung_cancer, output_xlsx_colorectal_cancer, output_xlsx_prostate_cancer,\n",
    "    output_xlsx_stomach_cancer, output_xlsx_liver_cancer, output_xlsx_cervix_cancer, output_xlsx_oesophagus_cancer,\n",
    "    output_xlsx_thyroid_cancer, output_xlsx_bladder_cancer\n",
    "]"
   ]
  },
  {
   "cell_type": "code",
   "execution_count": 2,
   "id": "26a23b2a",
   "metadata": {
    "tags": []
   },
   "outputs": [],
   "source": [
    "PMID_index_list_of_list = []\n",
    "lines_array = []\n",
    "\n",
    "for input_file in input_txt_files:\n",
    "    PMID_index_list = []\n",
    "    with open(input_file, 'r', encoding='utf-8') as f:\n",
    "        lines = f.readlines()\n",
    "        #print(len(lines))\n",
    "    lines_array.append(lines)\n",
    "    \n",
    "    article_count = 0\n",
    "    index = 0\n",
    "    \n",
    "    for line in lines:\n",
    "        if line.startswith('PMID'):\n",
    "            PMID_index_list.append(index)\n",
    "            article_count += 1\n",
    "        index +=1\n",
    "    PMID_index_list.append(index)\n",
    "    PMID_index_list_of_list.append(PMID_index_list)\n",
    "    \n",
    "    #print(input_file)\n",
    "    #print(f\"the number of articles in {input_file} is {article_count}\\n\")"
   ]
  },
  {
   "cell_type": "code",
   "execution_count": 3,
   "id": "68dcce9b",
   "metadata": {
    "tags": []
   },
   "outputs": [],
   "source": [
    "#print(len(lines_array))\n",
    "#print(len(lines_array[1]))\n",
    "#print(len(lines_array[0][0]))\n",
    "#article_count"
   ]
  },
  {
   "cell_type": "code",
   "execution_count": 3,
   "id": "784f0d6c",
   "metadata": {
    "tags": []
   },
   "outputs": [],
   "source": [
    "articles_list_of_list = []\n",
    "for one_cancer_type in range(len(PMID_index_list_of_list)):\n",
    "    articles_list = []\n",
    "    for i in range(article_count):\n",
    "        for one_line in range(PMID_index_list_of_list[one_cancer_type][i], PMID_index_list_of_list[one_cancer_type][i+1]):\n",
    "            articles_list.append(lines_array[one_cancer_type][one_line])\n",
    "    articles_list_of_list.append(articles_list)"
   ]
  },
  {
   "cell_type": "code",
   "execution_count": 5,
   "id": "179f72b7",
   "metadata": {
    "tags": []
   },
   "outputs": [],
   "source": [
    "#print(len(articles_list_of_list))\n",
    "#print(len(articles_list_of_list[1]))\n",
    "#print(len(articles_list_of_list[0]))\n",
    "#articles_list_of_list[0]"
   ]
  },
  {
   "cell_type": "code",
   "execution_count": 4,
   "id": "f0082f8a",
   "metadata": {
    "tags": []
   },
   "outputs": [],
   "source": [
    "PMID_list_of_list = []\n",
    "TI_list_of_list = []\n",
    "AB_list_of_list = []\n",
    "\n",
    "for one_articles_list in articles_list_of_list:\n",
    "    current_line = 0\n",
    "    PMID_list = []\n",
    "    AB_list = []\n",
    "    TI_list = []\n",
    "    while current_line < len(one_articles_list):\n",
    "        #len(one_articles_list) (DO NOT DELETE THIS LINE AT ALL COST)\n",
    "        if one_articles_list[current_line].startswith('PMID'):\n",
    "            PMID = one_articles_list[current_line].split('- ')\n",
    "            PMID_list.append(PMID[1].strip())\n",
    "            #print(f'PMID {current_line}')\n",
    "            current_line += 1\n",
    "        elif one_articles_list[current_line].startswith('TI'):\n",
    "            TI = one_articles_list[current_line][6:-1].strip()\n",
    "            #TI_list.append(TI)\n",
    "            #print(f'TI {current_line}')\n",
    "            #current_line += 1\n",
    "            while one_articles_list[current_line+1].startswith('    '):\n",
    "                next_line = one_articles_list[current_line+1].strip()\n",
    "                TI = TI + ' ' + next_line\n",
    "                #TI_list.append(TI)\n",
    "                #print(f'TI {current_line}')\n",
    "                current_line += 1\n",
    "            TI_list.append(TI)\n",
    "        elif one_articles_list[current_line].startswith('AB'):\n",
    "            AB = one_articles_list[current_line][6:-1].strip()\n",
    "            #AB_list.append(AB)\n",
    "            #print(f'AB {current_line}')\n",
    "            #current_line += 1\n",
    "            while one_articles_list[current_line+1].startswith('    '):\n",
    "                next_line = one_articles_list[current_line+1].strip()\n",
    "                AB = AB + ' ' + next_line\n",
    "                #AB_list.append(AB)\n",
    "                #print(f'AB {current_line}')\n",
    "                current_line += 1\n",
    "            AB_list.append(AB)\n",
    "        current_line += 1\n",
    "    \n",
    "    PMID_list_of_list.append(PMID_list)\n",
    "    TI_list_of_list.append(TI_list)\n",
    "    AB_list_of_list.append(AB_list)"
   ]
  },
  {
   "cell_type": "code",
   "execution_count": 7,
   "id": "0e025069",
   "metadata": {
    "tags": []
   },
   "outputs": [],
   "source": [
    "#print(len(PMID_list_of_list))\n",
    "#print(PMID_list_of_list)\n",
    "#print('\\n\\n')\n",
    "#print(len(TI_list_of_list[2]))\n",
    "#print(TI_list_of_list)\n",
    "#print('\\n\\n')\n",
    "#print(len(AB_list_of_list))\n",
    "#print(AB_list_of_list[0])"
   ]
  },
  {
   "cell_type": "code",
   "execution_count": 8,
   "id": "ed3592f6",
   "metadata": {
    "tags": []
   },
   "outputs": [],
   "source": [
    "#for j in range(10):\n",
    "#    print(len(PMID_list_of_list[j]))\n",
    "#print('\\n')\n",
    "#for j in range(10):\n",
    "#    print(len(TI_list_of_list[j]))\n",
    "#print('\\n')\n",
    "#for j in range(10):\n",
    "#    print(len(AB_list_of_list[j]))"
   ]
  },
  {
   "cell_type": "code",
   "execution_count": 5,
   "id": "e34c9ad1",
   "metadata": {
    "tags": []
   },
   "outputs": [],
   "source": [
    "import pandas as pd\n",
    "from itertools import zip_longest\n",
    "\n",
    "cancer_types = [\"Breast\", \"Lung\", \"Colorectal\", \"Prostate\", \"Stomach\", \"Liver\", \"Cervix\", \"Oesophagus\", \"Thyroid\", \"Bladder\"]\n",
    "\n",
    "for i in range(len(cancer_types)):\n",
    "    pmid_list = PMID_list_of_list[i]\n",
    "    ti_list = TI_list_of_list[i]\n",
    "    ab_list = AB_list_of_list[i]\n",
    "    \n",
    "    zipped_data = list(zip_longest(pmid_list, ti_list, ab_list, fillvalue=None))\n",
    "    \n",
    "    pmid_list, ti_list, ab_list = zip(*zipped_data)\n",
    "\n",
    "    data = {\n",
    "        'PMID': pmid_list,\n",
    "        'TI': ti_list,\n",
    "        'AB': ab_list,\n",
    "        'Type': [cancer_types[i]] * len(pmid_list)\n",
    "    }\n",
    "    df = pd.DataFrame(data)\n",
    "\n",
    "    df.to_excel(output_xlsx_files[i], index=False)\n",
    "    #print(f\"Saved data for {cancer_types[i]} cancer to {output_xlsx_files[i]}\")"
   ]
  },
  {
   "cell_type": "code",
   "execution_count": 6,
   "id": "94e6d1f0",
   "metadata": {
    "tags": []
   },
   "outputs": [],
   "source": [
    "dataframes = []\n",
    "for i in range(10):\n",
    "    df = pd.read_excel(output_xlsx_files[i], index_col = None)\n",
    "    dataframes.append(df)\n",
    "    #print(output_xlsx_files[i])\n",
    "    #print(df.shape)\n",
    "    #print(df.head(5))\n",
    "    #print('\\n')\n",
    "#print(dataframes[0])\n",
    "\n",
    "for cancer_df in dataframes:\n",
    "    cancer_df['TI_AB'] = cancer_df['TI'].astype(str) + ' ' + cancer_df['AB'].astype(str)\n",
    "\n",
    "\n",
    "# I don't think this is necessarry but okay 🤔⬇️\n",
    "\n",
    "breast_df = dataframes[0]\n",
    "lung_df = dataframes[1] \n",
    "colorectal_df = dataframes[2]\n",
    "prostate_df = dataframes[3]\n",
    "stomach_df = dataframes[4]\n",
    "liver_df = dataframes[5]\n",
    "cervix_df = dataframes[6]\n",
    "oesophagus_df = dataframes[7]\n",
    "thyroid_df = dataframes[8]\n",
    "bladder_df = dataframes[9]"
   ]
  },
  {
   "cell_type": "code",
   "execution_count": 7,
   "id": "f4eecceb",
   "metadata": {},
   "outputs": [
    {
     "name": "stdout",
     "output_type": "stream",
     "text": [
      "['Lung']\n"
     ]
    }
   ],
   "source": [
    "# just checking, don't mind me :3 nya~~~ uwu\n",
    "\n",
    "print(dataframes[1]['Type'].unique())"
   ]
  },
  {
   "cell_type": "code",
   "execution_count": 8,
   "id": "4a2f9e49",
   "metadata": {},
   "outputs": [],
   "source": [
    "tokens_by_type = {}\n",
    "\n",
    "for i in range(len(dataframes)):\n",
    "    cancer_type = dataframes[i]['Type'].unique()[0]\n",
    "    tokens_by_type[cancer_type] = [article.split() for article in dataframes[i]['TI_AB']]"
   ]
  },
  {
   "cell_type": "code",
   "execution_count": 11,
   "id": "6baafc36",
   "metadata": {},
   "outputs": [
    {
     "name": "stdout",
     "output_type": "stream",
     "text": [
      "10\n",
      "10000\n",
      "147\n"
     ]
    }
   ],
   "source": [
    "# just checking, don't mind me uwu\n",
    "\n",
    "print(len(tokens_by_type))\n",
    "print(len(tokens_by_type['Breast']))\n",
    "print(len(tokens_by_type['Breast'][0]))"
   ]
  },
  {
   "cell_type": "code",
   "execution_count": null,
   "id": "c6bcba67",
   "metadata": {},
   "outputs": [],
   "source": []
  }
 ],
 "metadata": {
  "kernelspec": {
   "display_name": "Python 3 (ipykernel)",
   "language": "python",
   "name": "python3"
  },
  "language_info": {
   "codemirror_mode": {
    "name": "ipython",
    "version": 3
   },
   "file_extension": ".py",
   "mimetype": "text/x-python",
   "name": "python",
   "nbconvert_exporter": "python",
   "pygments_lexer": "ipython3",
   "version": "3.11.4"
  }
 },
 "nbformat": 4,
 "nbformat_minor": 5
}
