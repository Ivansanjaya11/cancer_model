{
 "cells": [
  {
   "cell_type": "markdown",
   "id": "d0a42df2",
   "metadata": {},
   "source": [
    "First of all, we will designate the input and output directory for the source files. When we download the PubMed articles, the files were downloaded as .txt files. We will convert it into xlsx files for every cancer types."
   ]
  },
  {
   "cell_type": "code",
   "execution_count": 1,
   "id": "e38ef78a",
   "metadata": {
    "tags": []
   },
   "outputs": [],
   "source": [
    "# Breast cancer\n",
    "input_txt_breast_cancer = 'source_files_txt/breast_cancer.txt'\n",
    "output_xlsx_breast_cancer = 'source_files_xlsx/breast_cancer.xlsx'\n",
    "\n",
    "# lung cancer\n",
    "input_txt_lung_cancer = 'source_files_txt/lung_cancer.txt'\n",
    "output_xlsx_lung_cancer = 'source_files_xlsx/lung_cancer.xlsx'\n",
    "\n",
    "# Colorectal cancer\n",
    "input_txt_colorectal_cancer = 'source_files_txt/colorectal_cancer.txt'\n",
    "output_xlsx_colorectal_cancer = 'source_files_xlsx/colorectal_cancer.xlsx'\n",
    "\n",
    "# Prostate cancer\n",
    "input_txt_prostate_cancer = 'source_files_txt/prostate_cancer.txt'\n",
    "output_xlsx_prostate_cancer = 'source_files_xlsx/prostate_cancer.xlsx'\n",
    "\n",
    "# Stomach cancer\n",
    "input_txt_stomach_cancer = 'source_files_txt/stomach_cancer.txt'\n",
    "output_xlsx_stomach_cancer = 'source_files_xlsx/stomach_cancer.xlsx'\n",
    "\n",
    "# Liver cancer\n",
    "input_txt_liver_cancer = 'source_files_txt/liver_cancer.txt'\n",
    "output_xlsx_liver_cancer = 'source_files_xlsx/liver_cancer.xlsx'\n",
    "\n",
    "# Cervix cancer\n",
    "input_txt_cervix_cancer = 'source_files_txt/cervix_cancer.txt'\n",
    "output_xlsx_cervix_cancer = 'source_files_xlsx/cervix_cancer.xlsx'\n",
    "\n",
    "# Oesophagus cancer\n",
    "input_txt_oesophagus_cancer = 'source_files_txt/oesophagus_cancer.txt'\n",
    "output_xlsx_oesophagus_cancer = 'source_files_xlsx/oesophagus_cancer.xlsx'\n",
    "\n",
    "# Thyroid cancer\n",
    "input_txt_thyroid_cancer = 'source_files_txt/thyroid_cancer.txt'\n",
    "output_xlsx_thyroid_cancer = 'source_files_xlsx/thyroid_cancer.xlsx'\n",
    "\n",
    "# Bladder cancer\n",
    "input_txt_bladder_cancer = 'source_files_txt/bladder_cancer.txt'\n",
    "output_xlsx_bladder_cancer = 'source_files_xlsx/bladder_cancer.xlsx'\n",
    "\n",
    "input_txt_files = [\n",
    "    input_txt_breast_cancer, input_txt_lung_cancer, input_txt_colorectal_cancer, input_txt_prostate_cancer,\n",
    "    input_txt_stomach_cancer, input_txt_liver_cancer, input_txt_cervix_cancer, input_txt_oesophagus_cancer,\n",
    "    input_txt_thyroid_cancer, input_txt_bladder_cancer\n",
    "]\n",
    "\n",
    "output_xlsx_files = [\n",
    "    output_xlsx_breast_cancer, output_xlsx_lung_cancer, output_xlsx_colorectal_cancer, output_xlsx_prostate_cancer,\n",
    "    output_xlsx_stomach_cancer, output_xlsx_liver_cancer, output_xlsx_cervix_cancer, output_xlsx_oesophagus_cancer,\n",
    "    output_xlsx_thyroid_cancer, output_xlsx_bladder_cancer\n",
    "]"
   ]
  },
  {
   "cell_type": "code",
   "execution_count": 2,
   "id": "26a23b2a",
   "metadata": {
    "tags": []
   },
   "outputs": [],
   "source": [
    "PMID_index_list_of_list = []\n",
    "lines_array = []\n",
    "\n",
    "for input_file in input_txt_files:\n",
    "    PMID_index_list = []\n",
    "    with open(input_file, 'r', encoding='utf-8') as f:\n",
    "        lines = f.readlines()\n",
    "        #print(len(lines))\n",
    "    lines_array.append(lines)\n",
    "    \n",
    "    article_count = 0\n",
    "    index = 0\n",
    "    \n",
    "    for line in lines:\n",
    "        if line.startswith('PMID'):\n",
    "            PMID_index_list.append(index)\n",
    "            article_count += 1\n",
    "        index +=1\n",
    "    PMID_index_list.append(index)\n",
    "    PMID_index_list_of_list.append(PMID_index_list)\n",
    "    \n",
    "    #print(input_file)\n",
    "    #print(f\"the number of articles in {input_file} is {article_count}\\n\")"
   ]
  },
  {
   "cell_type": "code",
   "execution_count": 3,
   "id": "68dcce9b",
   "metadata": {
    "tags": []
   },
   "outputs": [],
   "source": [
    "#print(len(lines_array))\n",
    "#print(len(lines_array[1]))\n",
    "#print(len(lines_array[0][0]))\n",
    "#article_count"
   ]
  },
  {
   "cell_type": "code",
   "execution_count": 4,
   "id": "784f0d6c",
   "metadata": {
    "tags": []
   },
   "outputs": [],
   "source": [
    "articles_list_of_list = []\n",
    "for one_cancer_type in range(len(PMID_index_list_of_list)):\n",
    "    articles_list = []\n",
    "    for i in range(article_count):\n",
    "        for one_line in range(PMID_index_list_of_list[one_cancer_type][i], PMID_index_list_of_list[one_cancer_type][i+1]):\n",
    "            articles_list.append(lines_array[one_cancer_type][one_line])\n",
    "    articles_list_of_list.append(articles_list)"
   ]
  },
  {
   "cell_type": "code",
   "execution_count": 5,
   "id": "179f72b7",
   "metadata": {
    "tags": []
   },
   "outputs": [],
   "source": [
    "#print(len(articles_list_of_list))\n",
    "#print(len(articles_list_of_list[1]))\n",
    "#print(len(articles_list_of_list[0]))\n",
    "#articles_list_of_list[0]"
   ]
  },
  {
   "cell_type": "code",
   "execution_count": 6,
   "id": "f0082f8a",
   "metadata": {
    "tags": []
   },
   "outputs": [],
   "source": [
    "PMID_list_of_list = []\n",
    "TI_list_of_list = []\n",
    "AB_list_of_list = []\n",
    "\n",
    "for one_articles_list in articles_list_of_list:\n",
    "    current_line = 0\n",
    "    PMID_list = []\n",
    "    AB_list = []\n",
    "    TI_list = []\n",
    "    while current_line < len(one_articles_list):\n",
    "        #len(one_articles_list) (DO NOT DELETE THIS LINE AT ALL COST)\n",
    "        if one_articles_list[current_line].startswith('PMID'):\n",
    "            PMID = one_articles_list[current_line].split('- ')\n",
    "            PMID_list.append(PMID[1].strip())\n",
    "            #print(f'PMID {current_line}')\n",
    "            current_line += 1\n",
    "        elif one_articles_list[current_line].startswith('TI'):\n",
    "            TI = one_articles_list[current_line][6:-1].strip()\n",
    "            #TI_list.append(TI)\n",
    "            #print(f'TI {current_line}')\n",
    "            #current_line += 1\n",
    "            while one_articles_list[current_line+1].startswith('    '):\n",
    "                next_line = one_articles_list[current_line+1].strip()\n",
    "                TI = TI + ' ' + next_line\n",
    "                #TI_list.append(TI)\n",
    "                #print(f'TI {current_line}')\n",
    "                current_line += 1\n",
    "            TI_list.append(TI)\n",
    "        elif one_articles_list[current_line].startswith('AB'):\n",
    "            AB = one_articles_list[current_line][6:-1].strip()\n",
    "            #AB_list.append(AB)\n",
    "            #print(f'AB {current_line}')\n",
    "            #current_line += 1\n",
    "            while one_articles_list[current_line+1].startswith('    '):\n",
    "                next_line = one_articles_list[current_line+1].strip()\n",
    "                AB = AB + ' ' + next_line\n",
    "                #AB_list.append(AB)\n",
    "                #print(f'AB {current_line}')\n",
    "                current_line += 1\n",
    "            AB_list.append(AB)\n",
    "        current_line += 1\n",
    "    \n",
    "    PMID_list_of_list.append(PMID_list)\n",
    "    TI_list_of_list.append(TI_list)\n",
    "    AB_list_of_list.append(AB_list)"
   ]
  },
  {
   "cell_type": "code",
   "execution_count": 7,
   "id": "0e025069",
   "metadata": {
    "tags": []
   },
   "outputs": [],
   "source": [
    "#print(len(PMID_list_of_list))\n",
    "#print(PMID_list_of_list)\n",
    "#print('\\n\\n')\n",
    "#print(len(TI_list_of_list[2]))\n",
    "#print(TI_list_of_list)\n",
    "#print('\\n\\n')\n",
    "#print(len(AB_list_of_list))\n",
    "#print(AB_list_of_list[0])"
   ]
  },
  {
   "cell_type": "code",
   "execution_count": 8,
   "id": "ed3592f6",
   "metadata": {
    "tags": []
   },
   "outputs": [],
   "source": [
    "#for j in range(10):\n",
    "#    print(len(PMID_list_of_list[j]))\n",
    "#print('\\n')\n",
    "#for j in range(10):\n",
    "#    print(len(TI_list_of_list[j]))\n",
    "#print('\\n')\n",
    "#for j in range(10):\n",
    "#    print(len(AB_list_of_list[j]))"
   ]
  },
  {
   "cell_type": "code",
   "execution_count": 9,
   "id": "e34c9ad1",
   "metadata": {
    "tags": []
   },
   "outputs": [],
   "source": [
    "import pandas as pd\n",
    "from itertools import zip_longest\n",
    "\n",
    "cancer_types = [\"Breast\", \"Lung\", \"Colorectal\", \"Prostate\", \"Stomach\", \"Liver\", \"Cervix\", \"Oesophagus\", \"Thyroid\", \"Bladder\"]\n",
    "\n",
    "for i in range(len(cancer_types)):\n",
    "    pmid_list = PMID_list_of_list[i]\n",
    "    ti_list = TI_list_of_list[i]\n",
    "    ab_list = AB_list_of_list[i]\n",
    "    \n",
    "    zipped_data = list(zip_longest(pmid_list, ti_list, ab_list, fillvalue=None))\n",
    "    \n",
    "    pmid_list, ti_list, ab_list = zip(*zipped_data)\n",
    "\n",
    "    data = {\n",
    "        'PMID': pmid_list,\n",
    "        'TI': ti_list,\n",
    "        'AB': ab_list,\n",
    "        'Type': [cancer_types[i]] * len(pmid_list)\n",
    "    }\n",
    "    df = pd.DataFrame(data)\n",
    "\n",
    "    df.to_excel(output_xlsx_files[i], index=False)\n",
    "    #print(f\"Saved data for {cancer_types[i]} cancer to {output_xlsx_files[i]}\")"
   ]
  },
  {
   "cell_type": "code",
   "execution_count": 10,
   "id": "94e6d1f0",
   "metadata": {
    "tags": []
   },
   "outputs": [],
   "source": [
    "dataframes = []\n",
    "for i in range(10):\n",
    "    df = pd.read_excel(output_xlsx_files[i], index_col = None)\n",
    "    dataframes.append(df)\n",
    "    #print(output_xlsx_files[i])\n",
    "    #print(df.shape)\n",
    "    #print(df.head(5))\n",
    "    #print('\\n')\n",
    "#print(dataframes[0])\n",
    "\n",
    "breast_df = dataframes[0]\n",
    "lung_df = dataframes[1] \n",
    "colorectal_df = dataframes[2]\n",
    "prostate_df = dataframes[3]\n",
    "stomach_df = dataframes[4]\n",
    "liver_df = dataframes[5]\n",
    "cervix_df = dataframes[6]\n",
    "oesophagus_df = dataframes[7]\n",
    "thyroid_df = dataframes[8]\n",
    "bladder_df = dataframes[9]"
   ]
  },
  {
   "cell_type": "code",
   "execution_count": 11,
   "id": "34856d30",
   "metadata": {},
   "outputs": [
    {
     "data": {
      "text/plain": [
       "0       Bladder Cancer: A Review.IMPORTANCE: Bladder c...\n",
       "1       Bladder Cancer: Current Challenges and Future ...\n",
       "2       Bladder cancer.Bladder cancer is a global heal...\n",
       "3       Current best practice for bladder cancer: a na...\n",
       "4       Treatment of muscle-invasive and advanced blad...\n",
       "                              ...                        \n",
       "9995    Diagnostic value of urine cyclic RNA-0071196 f...\n",
       "9996    Letter to the editor for the article \"Nephron-...\n",
       "9997    Editorial Comment from Dr Hatakeyama and Dr Oh...\n",
       "9998    Editorial Comment on: \"Robotic vs Laparoscopic...\n",
       "9999    Advances in the management of urothelial carci...\n",
       "Name: TI_AB, Length: 10000, dtype: object"
      ]
     },
     "execution_count": 11,
     "metadata": {},
     "output_type": "execute_result"
    }
   ],
   "source": [
    "breast_df['TI_AB'] = breast_df['TI'].astype(str)+ breast_df['AB'].astype(str)\n",
    "lung_df['TI_AB'] = lung_df['TI'].astype(str)+ lung_df['AB'].astype(str)\n",
    "colorectal_df['TI_AB'] = colorectal_df['TI'].astype(str)+ colorectal_df['AB'].astype(str)\n",
    "prostate_df['TI_AB'] = prostate_df['TI'].astype(str)+ prostate_df['AB'].astype(str)\n",
    "stomach_df['TI_AB'] = stomach_df['TI'].astype(str)+ stomach_df['AB'].astype(str)\n",
    "liver_df['TI_AB'] = liver_df['TI'].astype(str)+ liver_df['AB'].astype(str)\n",
    "cervix_df['TI_AB'] = cervix_df['TI'].astype(str)+ cervix_df['AB'].astype(str)\n",
    "oesophagus_df['TI_AB'] = oesophagus_df['TI'].astype(str)+ oesophagus_df['AB'].astype(str)\n",
    "thyroid_df['TI_AB'] = thyroid_df['TI'].astype(str)+ thyroid_df['AB'].astype(str)\n",
    "bladder_df['TI_AB'] = bladder_df['TI'].astype(str)+ bladder_df['AB'].astype(str)\n",
    "\n",
    "#coba brute force\n",
    "\n",
    "breast_df['TI_AB']\n",
    "lung_df['TI_AB']\n",
    "colorectal_df['TI_AB']\n",
    "prostate_df['TI_AB']\n",
    "stomach_df['TI_AB']\n",
    "liver_df['TI_AB']\n",
    "cervix_df['TI_AB']\n",
    "oesophagus_df['TI_AB']\n",
    "thyroid_df['TI_AB']\n",
    "bladder_df['TI_AB']"
   ]
  },
  {
   "cell_type": "code",
   "execution_count": 12,
   "id": "91bdd099",
   "metadata": {},
   "outputs": [
    {
     "name": "stdout",
     "output_type": "stream",
     "text": [
      "10000\n",
      "10000\n",
      "10000\n",
      "10000\n",
      "10000\n",
      "10000\n",
      "10000\n",
      "10000\n",
      "10000\n",
      "10000\n"
     ]
    }
   ],
   "source": [
    "#ini jg ku coba brute\n",
    "\n",
    "breast_tokens = [OneArticle.split() for OneArticle in breast_df['TI_AB']]\n",
    "lung_tokens = [OneArticle.split() for OneArticle in lung_df['TI_AB']]\n",
    "colorectal_tokens = [OneArticle.split() for OneArticle in colorectal_df['TI_AB']]\n",
    "prostate_tokens = [OneArticle.split() for OneArticle in prostate_df['TI_AB']]\n",
    "stomach_tokens = [OneArticle.split() for OneArticle in stomach_df['TI_AB']]\n",
    "liver_tokens = [OneArticle.split() for OneArticle in liver_df['TI_AB']]\n",
    "cervix_tokens = [OneArticle.split() for OneArticle in cervix_df['TI_AB']]\n",
    "oesophagus_tokens = [OneArticle.split() for OneArticle in oesophagus_df['TI_AB']]\n",
    "thyroid_tokens = [OneArticle.split() for OneArticle in thyroid_df['TI_AB']]\n",
    "bladder_tokens = [OneArticle.split() for OneArticle in bladder_df['TI_AB']]\n",
    "\n",
    "print(len(breast_tokens))\n",
    "print(len(lung_tokens))\n",
    "print(len(colorectal_tokens))\n",
    "print(len(prostate_tokens))\n",
    "print(len(stomach_tokens))\n",
    "print(len(liver_tokens))\n",
    "print(len(cervix_tokens))\n",
    "print(len(oesophagus_tokens))\n",
    "print(len(thyroid_tokens))\n",
    "print(len(bladder_tokens))\n"
   ]
  },
  {
   "cell_type": "code",
   "execution_count": 15,
   "id": "3efdafa9",
   "metadata": {},
   "outputs": [
    {
     "name": "stdout",
     "output_type": "stream",
     "text": [
      "100000\n",
      "['Breast', 'cancer:', 'Biology,', 'biomarkers,', 'and', 'treatments.During', 'the', 'past', 'recent', 'years,', 'various', 'therapies', 'emerged', 'in', 'the', 'era', 'of', 'breast', 'cancer.', 'Breast', 'cancer', 'is', 'a', 'heterogeneous', 'disease', 'in', 'which', 'genetic', 'and', 'environmental', 'factors', 'are', 'involved.', 'Breast', 'cancer', 'stem', 'cells', '(BCSCs)', 'are', 'the', 'main', 'player', 'in', 'the', 'aggressiveness', 'of', 'different', 'tumors', 'and', 'also,', 'these', 'cells', 'are', 'the', 'main', 'challenge', 'in', 'cancer', 'treatment.', 'Moreover,', 'the', 'major', 'obstacle', 'to', 'achieve', 'an', 'effective', 'treatment', 'is', 'resistance', 'to', 'therapies.', 'There', 'are', 'various', 'types', 'of', 'treatment', 'for', 'breast', 'cancer', '(BC)', 'patients.', 'Therefore,', 'in', 'this', 'review,', 'we', 'present', 'the', 'current', 'treatments,', 'novel', 'approaches', 'such', 'as', 'antibody-drug', 'conjugation', 'systems', '(ADCs),', 'nanoparticles', '(albumin-,', 'metal-,', 'lipid-,', 'polymer-,', 'micelle-based', 'nanoparticles),', 'and', 'BCSCs-based', 'therapies.', 'Furthermore,', 'prognostic', 'and', 'predictive', 'biomarkers', 'will', 'be', 'discussed', 'also', 'biomarkers', 'that', 'have', 'been', 'applied', 'by', 'some', 'tests', 'such', 'as', 'Oncotype', 'DX,', 'Mamm', 'αPrint,', 'and', 'uPA/PAI-1', 'are', 'regarded', 'as', 'suitable', 'prognostic', 'and', 'predictive', 'factors', 'in', 'breast', 'cancer.']\n"
     ]
    }
   ],
   "source": [
    "cancer_tokens = breast_tokens + lung_tokens + colorectal_tokens + prostate_tokens + stomach_tokens + liver_tokens + cervix_tokens + oesophagus_tokens + thyroid_tokens + bladder_tokens\n",
    "\n",
    "print(len(cancer_tokens))\n",
    "print(cancer_tokens[0])\n",
    "#print(cancer_tokens)\n",
    "#code diatas ini ^ jangan di run kecuali laptop anda kayak punya ivan\n"
   ]
  },
  {
   "cell_type": "code",
   "execution_count": null,
   "id": "c6bcba67",
   "metadata": {},
   "outputs": [],
   "source": []
  }
 ],
 "metadata": {
  "kernelspec": {
   "display_name": "Python 3 (ipykernel)",
   "language": "python",
   "name": "python3"
  },
  "language_info": {
   "codemirror_mode": {
    "name": "ipython",
    "version": 3
   },
   "file_extension": ".py",
   "mimetype": "text/x-python",
   "name": "python",
   "nbconvert_exporter": "python",
   "pygments_lexer": "ipython3",
   "version": "3.10.6"
  }
 },
 "nbformat": 4,
 "nbformat_minor": 5
}
