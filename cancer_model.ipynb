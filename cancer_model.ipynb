{
 "cells": [
  {
   "cell_type": "markdown",
   "id": "1e0f6902",
   "metadata": {},
   "source": [
    "First of all, we will designate the input and output directory for the source files. When we download the PubMed articles, the files were downloaded as .txt files. We will convert it into xlsx files for every cancer types."
   ]
  },
  {
   "cell_type": "code",
   "execution_count": 1,
   "id": "96786cce",
   "metadata": {},
   "outputs": [],
   "source": [
    "# Breast cancer\n",
    "input_txt_breast_cancer = 'source_files_txt/breast_cancer.txt'\n",
    "output_xlsx_breast_cancer = 'source_files_xlsx/breast_cancer.xlsx'\n",
    "CancerType = 'Breast'\n",
    "\n",
    "# lung cancer\n",
    "input_txt_lung_cancer = 'source_files_txt/lung_cancer.txt'\n",
    "output_xlsx_lung_cancer = 'source_files_xlsx/lung_cancer.xlsx'\n",
    "CancerType = 'Lung'\n",
    "\n",
    "# Colorectal cancer\n",
    "input_txt_colorectal_cancer = 'source_files_txt/colorectal_cancer.txt'\n",
    "output_xlsx_colorectal_cancer = 'source_files_xlsx/colorectal_cancer.xlsx'\n",
    "CancerType = 'Colorectal'\n",
    "\n",
    "# Prostate cancer\n",
    "input_txt_prostate_cancer = 'source_files_txt/prostate_cancer.txt'\n",
    "output_xlsx_prostate_cancer = 'source_files_xlsx/prostate_cancer.xlsx'\n",
    "CancerType = 'Prostate'\n",
    "\n",
    "# Stomach cancer\n",
    "input_txt_stomach_cancer = 'source_files_txt/stomach_cancer.txt'\n",
    "output_xlsx_stomach_cancer = 'source_files_xlsx/stomach_cancer.xlsx'\n",
    "CancerType = 'Stomach'\n",
    "\n",
    "# Liver cancer\n",
    "input_txt_liver_cancer = 'source_files_txt/liver_cancer.txt'\n",
    "output_xlsx_liver_cancer = 'source_files_xlsx/liver_cancer.xlsx'\n",
    "CancerType = 'Liver'\n",
    "\n",
    "# Cervix cancer\n",
    "input_txt_cervix_cancer = 'source_files_txt/cervix_cancer.txt'\n",
    "output_xlsx_cervix_cancer = 'source_files_xlsx/cervix_cancer.xlsx'\n",
    "CancerType = 'Cervix'\n",
    "\n",
    "# Oesophagus cancer\n",
    "input_txt_oesophagus_cancer = 'source_files_txt/oesophagus_cancer.txt'\n",
    "output_xlsx_oesophagus_cancer = 'source_files_xlsx/oesophagus_cancer.xlsx'\n",
    "CancerType = 'Oesophagus'\n",
    "\n",
    "# Thyroid cancer\n",
    "input_txt_thyroid_cancer = 'source_files_txt/thyroid_cancer.txt'\n",
    "output_xlsx_thyroid_cancer = 'source_files_xlsx/thyroid_cancer.xlsx'\n",
    "CancerType = 'Thyroid'\n",
    "\n",
    "# Bladder cancer\n",
    "input_txt_bladder_cancer = 'source_files_txt/bladder_cancer.txt'\n",
    "output_xlsx_bladder_cancer = 'source_files_xlsx/bladder_cancer.xlsx'\n",
    "CancerType = 'Bladder'"
   ]
  },
  {
   "cell_type": "code",
   "execution_count": 2,
   "id": "4d5be212",
   "metadata": {},
   "outputs": [
    {
     "name": "stdout",
     "output_type": "stream",
     "text": [
      "source_files_txt/breast_cancer.txt\n",
      "10000\n",
      "1\n",
      "source_files_txt/lung_cancer.txt\n",
      "10000\n",
      "2\n",
      "source_files_txt/colorectal_cancer.txt\n",
      "10000\n",
      "3\n",
      "source_files_txt/prostate_cancer.txt\n",
      "10000\n",
      "4\n",
      "source_files_txt/stomach_cancer.txt\n",
      "10000\n",
      "5\n",
      "source_files_txt/liver_cancer.txt\n",
      "10000\n",
      "6\n",
      "source_files_txt/cervix_cancer.txt\n",
      "10000\n",
      "7\n",
      "source_files_txt/oesophagus_cancer.txt\n",
      "10000\n",
      "8\n",
      "source_files_txt/thyroid_cancer.txt\n",
      "10000\n",
      "9\n",
      "source_files_txt/bladder_cancer.txt\n",
      "10000\n",
      "10\n"
     ]
    }
   ],
   "source": [
    "input_txt_files = [\n",
    "    input_txt_breast_cancer, input_txt_lung_cancer, input_txt_colorectal_cancer, input_txt_prostate_cancer,\n",
    "    input_txt_stomach_cancer, input_txt_liver_cancer, input_txt_cervix_cancer, input_txt_oesophagus_cancer,\n",
    "    input_txt_thyroid_cancer, input_txt_bladder_cancer\n",
    "]\n",
    "\n",
    "PMID_index = []\n",
    "\n",
    "for file in input_txt_files:\n",
    "    PMID_idx = []\n",
    "    with open(file, 'r', encoding=\"utf-8\") as f:\n",
    "        lines = f.readlines()\n",
    "    \n",
    "    count = 0\n",
    "    index = 0\n",
    "\n",
    "    for line in lines:\n",
    "        if line.startswith('PMID'):\n",
    "            PMID_idx.append(index)\n",
    "            count += 1\n",
    "        index += 1\n",
    "    PMID_index.append(PMID_idx)\n",
    "    print(file)\n",
    "    print(count)\n",
    "    print(len(PMID_index))"
   ]
  },
  {
   "cell_type": "code",
   "execution_count": 11,
   "id": "0e19022e",
   "metadata": {
    "scrolled": false
   },
   "outputs": [
    {
     "ename": "TypeError",
     "evalue": "'list' object cannot be interpreted as an integer",
     "output_type": "error",
     "traceback": [
      "\u001b[1;31m---------------------------------------------------------------------------\u001b[0m",
      "\u001b[1;31mTypeError\u001b[0m                                 Traceback (most recent call last)",
      "Cell \u001b[1;32mIn[11], line 12\u001b[0m\n\u001b[0;32m     10\u001b[0m \u001b[38;5;28;01mfor\u001b[39;00m i \u001b[38;5;129;01min\u001b[39;00m \u001b[38;5;28mrange\u001b[39m(count):\n\u001b[0;32m     11\u001b[0m     article \u001b[38;5;241m=\u001b[39m []\n\u001b[1;32m---> 12\u001b[0m     \u001b[38;5;28;01mfor\u001b[39;00m line \u001b[38;5;129;01min\u001b[39;00m \u001b[38;5;28mrange\u001b[39m(PMID_index[i], PMID_index[i\u001b[38;5;241m+\u001b[39m\u001b[38;5;241m1\u001b[39m]):\n\u001b[0;32m     13\u001b[0m         article\u001b[38;5;241m.\u001b[39mappend(lines[line])\n\u001b[0;32m     14\u001b[0m         \u001b[38;5;66;03m#print(lines[0])\u001b[39;00m\n\u001b[0;32m     15\u001b[0m         \u001b[38;5;66;03m#print(article)\u001b[39;00m\n\u001b[0;32m     16\u001b[0m         \u001b[38;5;66;03m#print(PMID_index[j][i])\u001b[39;00m\n\u001b[1;32m   (...)\u001b[0m\n\u001b[0;32m     20\u001b[0m     \u001b[38;5;66;03m#print(\"\\n\")\u001b[39;00m\n\u001b[0;32m     21\u001b[0m     \u001b[38;5;66;03m#print(len(article))\u001b[39;00m\n",
      "\u001b[1;31mTypeError\u001b[0m: 'list' object cannot be interpreted as an integer"
     ]
    }
   ],
   "source": [
    "for input_file in input_txt_files:\n",
    "PMID_list1 = []\n",
    "TI_list1 = []\n",
    "AB_list1 = []\n",
    "\n",
    "\n",
    "    PMID_list = []\n",
    "    TI_list = []\n",
    "    AB_list = []\n",
    "    for i in range(count):\n",
    "        article = []\n",
    "        for line in range(PMID_index[j][i], PMID_index[j][i+1]):\n",
    "            article.append(lines[line])\n",
    "            #print(lines[0])\n",
    "            #print(article)\n",
    "            #print(PMID_index[j][i])\n",
    "            #print(len(article))\n",
    "        #print(article)\n",
    "        #print(PMID_index[j][i])\n",
    "        #print(\"\\n\")\n",
    "        #print(len(article))\n",
    "        n = 0\n",
    "        while n < len(article):\n",
    "            if article[n].startswith('PMID'):\n",
    "                PMID = article[n].split('- ')\n",
    "            if article[n].startswith('TI'):\n",
    "                TI = article[n][6:-1].strip()\n",
    "                #print(article[n+1][6:-1])\n",
    "                while article[n+1].startswith('    '):\n",
    "                    next_line = article[n+1].strip()\n",
    "                    TI = TI + ' ' + next_line\n",
    "                    n += 1\n",
    "            if article[n].startswith('AB'):\n",
    "                AB = article[n][6:-1].strip()\n",
    "                #print(article)\n",
    "                while article[n+1].startswith('    '):\n",
    "                    next_line = article[n+1].strip()\n",
    "                    AB = AB + ' ' + next_line\n",
    "                    n += 1\n",
    "            n += 1\n",
    "        j+=1\n",
    "        \n",
    "        PMID_list.append(PMID[1].strip())\n",
    "        TI_list.append(TI)\n",
    "        AB_list.append(AB)\n",
    "    \n",
    "    PMID_list1.append(PMID_list)\n",
    "    TI_list1.append(TI_list)\n",
    "    AB_list1.append(AB_list)\n",
    "    \n",
    "    print(input_file)\n",
    "    #print(PMID_list1)\n",
    "    #print(len(PMID_list))\n",
    "    #print(PMID_list[999])\n",
    "    #print(TI_list[999])\n",
    "    #print(AB_list[999])\n",
    "    print(\"\\n\")"
   ]
  },
  {
   "cell_type": "code",
   "execution_count": 37,
   "id": "a50f33b0",
   "metadata": {},
   "outputs": [
    {
     "name": "stdout",
     "output_type": "stream",
     "text": [
      "0\n",
      "0\n",
      "0\n"
     ]
    }
   ],
   "source": [
    "print(len(PMID_list1))\n",
    "print(len(TI_list1))\n",
    "print(len(AB_list1))\n",
    "for i in TI_list1:\n",
    "    print(i[:10])\n",
    "    print(\"\\n\\n\")"
   ]
  },
  {
   "cell_type": "code",
   "execution_count": 36,
   "id": "8f21b215",
   "metadata": {},
   "outputs": [
    {
     "ename": "KeyboardInterrupt",
     "evalue": "",
     "output_type": "error",
     "traceback": [
      "\u001b[1;31m---------------------------------------------------------------------------\u001b[0m",
      "\u001b[1;31mKeyboardInterrupt\u001b[0m                         Traceback (most recent call last)",
      "Cell \u001b[1;32mIn[36], line 21\u001b[0m\n\u001b[0;32m     12\u001b[0m data \u001b[38;5;241m=\u001b[39m {\n\u001b[0;32m     13\u001b[0m     \u001b[38;5;124m'\u001b[39m\u001b[38;5;124mPMID\u001b[39m\u001b[38;5;124m'\u001b[39m: PMID_list1[i],\n\u001b[0;32m     14\u001b[0m     \u001b[38;5;124m'\u001b[39m\u001b[38;5;124mTI\u001b[39m\u001b[38;5;124m'\u001b[39m: TI_list1[i],\n\u001b[0;32m     15\u001b[0m     \u001b[38;5;124m'\u001b[39m\u001b[38;5;124mAB\u001b[39m\u001b[38;5;124m'\u001b[39m: AB_list1[i],\n\u001b[0;32m     16\u001b[0m     \u001b[38;5;124m'\u001b[39m\u001b[38;5;124mType\u001b[39m\u001b[38;5;124m'\u001b[39m: cancer_types[i]\n\u001b[0;32m     17\u001b[0m }\n\u001b[0;32m     19\u001b[0m df \u001b[38;5;241m=\u001b[39m pd\u001b[38;5;241m.\u001b[39mDataFrame(data)\n\u001b[1;32m---> 21\u001b[0m df\u001b[38;5;241m.\u001b[39mto_excel(output_xlsx_files[i], index\u001b[38;5;241m=\u001b[39m\u001b[38;5;28;01mFalse\u001b[39;00m)\n",
      "File \u001b[1;32mC:\\ProgramData\\anaconda3\\Lib\\site-packages\\pandas\\util\\_decorators.py:211\u001b[0m, in \u001b[0;36mdeprecate_kwarg.<locals>._deprecate_kwarg.<locals>.wrapper\u001b[1;34m(*args, **kwargs)\u001b[0m\n\u001b[0;32m    209\u001b[0m     \u001b[38;5;28;01melse\u001b[39;00m:\n\u001b[0;32m    210\u001b[0m         kwargs[new_arg_name] \u001b[38;5;241m=\u001b[39m new_arg_value\n\u001b[1;32m--> 211\u001b[0m \u001b[38;5;28;01mreturn\u001b[39;00m func(\u001b[38;5;241m*\u001b[39margs, \u001b[38;5;241m*\u001b[39m\u001b[38;5;241m*\u001b[39mkwargs)\n",
      "File \u001b[1;32mC:\\ProgramData\\anaconda3\\Lib\\site-packages\\pandas\\util\\_decorators.py:211\u001b[0m, in \u001b[0;36mdeprecate_kwarg.<locals>._deprecate_kwarg.<locals>.wrapper\u001b[1;34m(*args, **kwargs)\u001b[0m\n\u001b[0;32m    209\u001b[0m     \u001b[38;5;28;01melse\u001b[39;00m:\n\u001b[0;32m    210\u001b[0m         kwargs[new_arg_name] \u001b[38;5;241m=\u001b[39m new_arg_value\n\u001b[1;32m--> 211\u001b[0m \u001b[38;5;28;01mreturn\u001b[39;00m func(\u001b[38;5;241m*\u001b[39margs, \u001b[38;5;241m*\u001b[39m\u001b[38;5;241m*\u001b[39mkwargs)\n",
      "File \u001b[1;32mC:\\ProgramData\\anaconda3\\Lib\\site-packages\\pandas\\core\\generic.py:2374\u001b[0m, in \u001b[0;36mNDFrame.to_excel\u001b[1;34m(self, excel_writer, sheet_name, na_rep, float_format, columns, header, index, index_label, startrow, startcol, engine, merge_cells, encoding, inf_rep, verbose, freeze_panes, storage_options)\u001b[0m\n\u001b[0;32m   2361\u001b[0m \u001b[38;5;28;01mfrom\u001b[39;00m \u001b[38;5;21;01mpandas\u001b[39;00m\u001b[38;5;21;01m.\u001b[39;00m\u001b[38;5;21;01mio\u001b[39;00m\u001b[38;5;21;01m.\u001b[39;00m\u001b[38;5;21;01mformats\u001b[39;00m\u001b[38;5;21;01m.\u001b[39;00m\u001b[38;5;21;01mexcel\u001b[39;00m \u001b[38;5;28;01mimport\u001b[39;00m ExcelFormatter\n\u001b[0;32m   2363\u001b[0m formatter \u001b[38;5;241m=\u001b[39m ExcelFormatter(\n\u001b[0;32m   2364\u001b[0m     df,\n\u001b[0;32m   2365\u001b[0m     na_rep\u001b[38;5;241m=\u001b[39mna_rep,\n\u001b[1;32m   (...)\u001b[0m\n\u001b[0;32m   2372\u001b[0m     inf_rep\u001b[38;5;241m=\u001b[39minf_rep,\n\u001b[0;32m   2373\u001b[0m )\n\u001b[1;32m-> 2374\u001b[0m formatter\u001b[38;5;241m.\u001b[39mwrite(\n\u001b[0;32m   2375\u001b[0m     excel_writer,\n\u001b[0;32m   2376\u001b[0m     sheet_name\u001b[38;5;241m=\u001b[39msheet_name,\n\u001b[0;32m   2377\u001b[0m     startrow\u001b[38;5;241m=\u001b[39mstartrow,\n\u001b[0;32m   2378\u001b[0m     startcol\u001b[38;5;241m=\u001b[39mstartcol,\n\u001b[0;32m   2379\u001b[0m     freeze_panes\u001b[38;5;241m=\u001b[39mfreeze_panes,\n\u001b[0;32m   2380\u001b[0m     engine\u001b[38;5;241m=\u001b[39mengine,\n\u001b[0;32m   2381\u001b[0m     storage_options\u001b[38;5;241m=\u001b[39mstorage_options,\n\u001b[0;32m   2382\u001b[0m )\n",
      "File \u001b[1;32mC:\\ProgramData\\anaconda3\\Lib\\site-packages\\pandas\\io\\formats\\excel.py:960\u001b[0m, in \u001b[0;36mExcelFormatter.write\u001b[1;34m(self, writer, sheet_name, startrow, startcol, freeze_panes, engine, storage_options)\u001b[0m\n\u001b[0;32m    957\u001b[0m \u001b[38;5;28;01mfinally\u001b[39;00m:\n\u001b[0;32m    958\u001b[0m     \u001b[38;5;66;03m# make sure to close opened file handles\u001b[39;00m\n\u001b[0;32m    959\u001b[0m     \u001b[38;5;28;01mif\u001b[39;00m need_save:\n\u001b[1;32m--> 960\u001b[0m         writer\u001b[38;5;241m.\u001b[39mclose()\n",
      "File \u001b[1;32mC:\\ProgramData\\anaconda3\\Lib\\site-packages\\pandas\\io\\excel\\_base.py:1480\u001b[0m, in \u001b[0;36mExcelWriter.close\u001b[1;34m(self)\u001b[0m\n\u001b[0;32m   1478\u001b[0m \u001b[38;5;28;01mdef\u001b[39;00m \u001b[38;5;21mclose\u001b[39m(\u001b[38;5;28mself\u001b[39m) \u001b[38;5;241m-\u001b[39m\u001b[38;5;241m>\u001b[39m \u001b[38;5;28;01mNone\u001b[39;00m:\n\u001b[0;32m   1479\u001b[0m \u001b[38;5;250m    \u001b[39m\u001b[38;5;124;03m\"\"\"synonym for save, to make it more file-like\"\"\"\u001b[39;00m\n\u001b[1;32m-> 1480\u001b[0m     \u001b[38;5;28mself\u001b[39m\u001b[38;5;241m.\u001b[39m_save()\n\u001b[0;32m   1481\u001b[0m     \u001b[38;5;28mself\u001b[39m\u001b[38;5;241m.\u001b[39m_handles\u001b[38;5;241m.\u001b[39mclose()\n",
      "File \u001b[1;32mC:\\ProgramData\\anaconda3\\Lib\\site-packages\\pandas\\io\\excel\\_openpyxl.py:109\u001b[0m, in \u001b[0;36mOpenpyxlWriter._save\u001b[1;34m(self)\u001b[0m\n\u001b[0;32m    105\u001b[0m \u001b[38;5;28;01mdef\u001b[39;00m \u001b[38;5;21m_save\u001b[39m(\u001b[38;5;28mself\u001b[39m) \u001b[38;5;241m-\u001b[39m\u001b[38;5;241m>\u001b[39m \u001b[38;5;28;01mNone\u001b[39;00m:\n\u001b[0;32m    106\u001b[0m \u001b[38;5;250m    \u001b[39m\u001b[38;5;124;03m\"\"\"\u001b[39;00m\n\u001b[0;32m    107\u001b[0m \u001b[38;5;124;03m    Save workbook to disk.\u001b[39;00m\n\u001b[0;32m    108\u001b[0m \u001b[38;5;124;03m    \"\"\"\u001b[39;00m\n\u001b[1;32m--> 109\u001b[0m     \u001b[38;5;28mself\u001b[39m\u001b[38;5;241m.\u001b[39mbook\u001b[38;5;241m.\u001b[39msave(\u001b[38;5;28mself\u001b[39m\u001b[38;5;241m.\u001b[39m_handles\u001b[38;5;241m.\u001b[39mhandle)\n\u001b[0;32m    110\u001b[0m     \u001b[38;5;28;01mif\u001b[39;00m \u001b[38;5;124m\"\u001b[39m\u001b[38;5;124mr+\u001b[39m\u001b[38;5;124m\"\u001b[39m \u001b[38;5;129;01min\u001b[39;00m \u001b[38;5;28mself\u001b[39m\u001b[38;5;241m.\u001b[39m_mode \u001b[38;5;129;01mand\u001b[39;00m \u001b[38;5;129;01mnot\u001b[39;00m \u001b[38;5;28misinstance\u001b[39m(\u001b[38;5;28mself\u001b[39m\u001b[38;5;241m.\u001b[39m_handles\u001b[38;5;241m.\u001b[39mhandle, mmap\u001b[38;5;241m.\u001b[39mmmap):\n\u001b[0;32m    111\u001b[0m         \u001b[38;5;66;03m# truncate file to the written content\u001b[39;00m\n\u001b[0;32m    112\u001b[0m         \u001b[38;5;28mself\u001b[39m\u001b[38;5;241m.\u001b[39m_handles\u001b[38;5;241m.\u001b[39mhandle\u001b[38;5;241m.\u001b[39mtruncate()\n",
      "File \u001b[1;32mC:\\ProgramData\\anaconda3\\Lib\\site-packages\\openpyxl\\workbook\\workbook.py:407\u001b[0m, in \u001b[0;36mWorkbook.save\u001b[1;34m(self, filename)\u001b[0m\n\u001b[0;32m    405\u001b[0m \u001b[38;5;28;01mif\u001b[39;00m \u001b[38;5;28mself\u001b[39m\u001b[38;5;241m.\u001b[39mwrite_only \u001b[38;5;129;01mand\u001b[39;00m \u001b[38;5;129;01mnot\u001b[39;00m \u001b[38;5;28mself\u001b[39m\u001b[38;5;241m.\u001b[39mworksheets:\n\u001b[0;32m    406\u001b[0m     \u001b[38;5;28mself\u001b[39m\u001b[38;5;241m.\u001b[39mcreate_sheet()\n\u001b[1;32m--> 407\u001b[0m save_workbook(\u001b[38;5;28mself\u001b[39m, filename)\n",
      "File \u001b[1;32mC:\\ProgramData\\anaconda3\\Lib\\site-packages\\openpyxl\\writer\\excel.py:293\u001b[0m, in \u001b[0;36msave_workbook\u001b[1;34m(workbook, filename)\u001b[0m\n\u001b[0;32m    291\u001b[0m archive \u001b[38;5;241m=\u001b[39m ZipFile(filename, \u001b[38;5;124m'\u001b[39m\u001b[38;5;124mw\u001b[39m\u001b[38;5;124m'\u001b[39m, ZIP_DEFLATED, allowZip64\u001b[38;5;241m=\u001b[39m\u001b[38;5;28;01mTrue\u001b[39;00m)\n\u001b[0;32m    292\u001b[0m writer \u001b[38;5;241m=\u001b[39m ExcelWriter(workbook, archive)\n\u001b[1;32m--> 293\u001b[0m writer\u001b[38;5;241m.\u001b[39msave()\n\u001b[0;32m    294\u001b[0m \u001b[38;5;28;01mreturn\u001b[39;00m \u001b[38;5;28;01mTrue\u001b[39;00m\n",
      "File \u001b[1;32mC:\\ProgramData\\anaconda3\\Lib\\site-packages\\openpyxl\\writer\\excel.py:275\u001b[0m, in \u001b[0;36mExcelWriter.save\u001b[1;34m(self)\u001b[0m\n\u001b[0;32m    273\u001b[0m \u001b[38;5;28;01mdef\u001b[39;00m \u001b[38;5;21msave\u001b[39m(\u001b[38;5;28mself\u001b[39m):\n\u001b[0;32m    274\u001b[0m \u001b[38;5;250m    \u001b[39m\u001b[38;5;124;03m\"\"\"Write data into the archive.\"\"\"\u001b[39;00m\n\u001b[1;32m--> 275\u001b[0m     \u001b[38;5;28mself\u001b[39m\u001b[38;5;241m.\u001b[39mwrite_data()\n\u001b[0;32m    276\u001b[0m     \u001b[38;5;28mself\u001b[39m\u001b[38;5;241m.\u001b[39m_archive\u001b[38;5;241m.\u001b[39mclose()\n",
      "File \u001b[1;32mC:\\ProgramData\\anaconda3\\Lib\\site-packages\\openpyxl\\writer\\excel.py:75\u001b[0m, in \u001b[0;36mExcelWriter.write_data\u001b[1;34m(self)\u001b[0m\n\u001b[0;32m     72\u001b[0m \u001b[38;5;28;01melse\u001b[39;00m:\n\u001b[0;32m     73\u001b[0m     archive\u001b[38;5;241m.\u001b[39mwritestr(ARC_THEME, theme_xml)\n\u001b[1;32m---> 75\u001b[0m \u001b[38;5;28mself\u001b[39m\u001b[38;5;241m.\u001b[39m_write_worksheets()\n\u001b[0;32m     76\u001b[0m \u001b[38;5;28mself\u001b[39m\u001b[38;5;241m.\u001b[39m_write_chartsheets()\n\u001b[0;32m     77\u001b[0m \u001b[38;5;28mself\u001b[39m\u001b[38;5;241m.\u001b[39m_write_images()\n",
      "File \u001b[1;32mC:\\ProgramData\\anaconda3\\Lib\\site-packages\\openpyxl\\writer\\excel.py:215\u001b[0m, in \u001b[0;36mExcelWriter._write_worksheets\u001b[1;34m(self)\u001b[0m\n\u001b[0;32m    212\u001b[0m \u001b[38;5;28;01mfor\u001b[39;00m idx, ws \u001b[38;5;129;01min\u001b[39;00m \u001b[38;5;28menumerate\u001b[39m(\u001b[38;5;28mself\u001b[39m\u001b[38;5;241m.\u001b[39mworkbook\u001b[38;5;241m.\u001b[39mworksheets, \u001b[38;5;241m1\u001b[39m):\n\u001b[0;32m    214\u001b[0m     ws\u001b[38;5;241m.\u001b[39m_id \u001b[38;5;241m=\u001b[39m idx\n\u001b[1;32m--> 215\u001b[0m     \u001b[38;5;28mself\u001b[39m\u001b[38;5;241m.\u001b[39mwrite_worksheet(ws)\n\u001b[0;32m    217\u001b[0m     \u001b[38;5;28;01mif\u001b[39;00m ws\u001b[38;5;241m.\u001b[39m_drawing:\n\u001b[0;32m    218\u001b[0m         \u001b[38;5;28mself\u001b[39m\u001b[38;5;241m.\u001b[39m_write_drawing(ws\u001b[38;5;241m.\u001b[39m_drawing)\n",
      "File \u001b[1;32mC:\\ProgramData\\anaconda3\\Lib\\site-packages\\openpyxl\\writer\\excel.py:203\u001b[0m, in \u001b[0;36mExcelWriter.write_worksheet\u001b[1;34m(self, ws)\u001b[0m\n\u001b[0;32m    200\u001b[0m     writer\u001b[38;5;241m.\u001b[39mwrite()\n\u001b[0;32m    202\u001b[0m ws\u001b[38;5;241m.\u001b[39m_rels \u001b[38;5;241m=\u001b[39m writer\u001b[38;5;241m.\u001b[39m_rels\n\u001b[1;32m--> 203\u001b[0m \u001b[38;5;28mself\u001b[39m\u001b[38;5;241m.\u001b[39m_archive\u001b[38;5;241m.\u001b[39mwrite(writer\u001b[38;5;241m.\u001b[39mout, ws\u001b[38;5;241m.\u001b[39mpath[\u001b[38;5;241m1\u001b[39m:])\n\u001b[0;32m    204\u001b[0m \u001b[38;5;28mself\u001b[39m\u001b[38;5;241m.\u001b[39mmanifest\u001b[38;5;241m.\u001b[39mappend(ws)\n\u001b[0;32m    205\u001b[0m writer\u001b[38;5;241m.\u001b[39mcleanup()\n",
      "File \u001b[1;32mC:\\ProgramData\\anaconda3\\Lib\\zipfile.py:1794\u001b[0m, in \u001b[0;36mZipFile.write\u001b[1;34m(self, filename, arcname, compress_type, compresslevel)\u001b[0m\n\u001b[0;32m   1791\u001b[0m     zinfo\u001b[38;5;241m.\u001b[39m_compresslevel \u001b[38;5;241m=\u001b[39m \u001b[38;5;28mself\u001b[39m\u001b[38;5;241m.\u001b[39mcompresslevel\n\u001b[0;32m   1793\u001b[0m \u001b[38;5;28;01mwith\u001b[39;00m \u001b[38;5;28mopen\u001b[39m(filename, \u001b[38;5;124m\"\u001b[39m\u001b[38;5;124mrb\u001b[39m\u001b[38;5;124m\"\u001b[39m) \u001b[38;5;28;01mas\u001b[39;00m src, \u001b[38;5;28mself\u001b[39m\u001b[38;5;241m.\u001b[39mopen(zinfo, \u001b[38;5;124m'\u001b[39m\u001b[38;5;124mw\u001b[39m\u001b[38;5;124m'\u001b[39m) \u001b[38;5;28;01mas\u001b[39;00m dest:\n\u001b[1;32m-> 1794\u001b[0m     shutil\u001b[38;5;241m.\u001b[39mcopyfileobj(src, dest, \u001b[38;5;241m1024\u001b[39m\u001b[38;5;241m*\u001b[39m\u001b[38;5;241m8\u001b[39m)\n",
      "File \u001b[1;32mC:\\ProgramData\\anaconda3\\Lib\\shutil.py:200\u001b[0m, in \u001b[0;36mcopyfileobj\u001b[1;34m(fsrc, fdst, length)\u001b[0m\n\u001b[0;32m    198\u001b[0m \u001b[38;5;28;01mif\u001b[39;00m \u001b[38;5;129;01mnot\u001b[39;00m buf:\n\u001b[0;32m    199\u001b[0m     \u001b[38;5;28;01mbreak\u001b[39;00m\n\u001b[1;32m--> 200\u001b[0m fdst_write(buf)\n",
      "File \u001b[1;32mC:\\ProgramData\\anaconda3\\Lib\\zipfile.py:1167\u001b[0m, in \u001b[0;36m_ZipWriteFile.write\u001b[1;34m(self, data)\u001b[0m\n\u001b[0;32m   1165\u001b[0m \u001b[38;5;28mself\u001b[39m\u001b[38;5;241m.\u001b[39m_crc \u001b[38;5;241m=\u001b[39m crc32(data, \u001b[38;5;28mself\u001b[39m\u001b[38;5;241m.\u001b[39m_crc)\n\u001b[0;32m   1166\u001b[0m \u001b[38;5;28;01mif\u001b[39;00m \u001b[38;5;28mself\u001b[39m\u001b[38;5;241m.\u001b[39m_compressor:\n\u001b[1;32m-> 1167\u001b[0m     data \u001b[38;5;241m=\u001b[39m \u001b[38;5;28mself\u001b[39m\u001b[38;5;241m.\u001b[39m_compressor\u001b[38;5;241m.\u001b[39mcompress(data)\n\u001b[0;32m   1168\u001b[0m     \u001b[38;5;28mself\u001b[39m\u001b[38;5;241m.\u001b[39m_compress_size \u001b[38;5;241m+\u001b[39m\u001b[38;5;241m=\u001b[39m \u001b[38;5;28mlen\u001b[39m(data)\n\u001b[0;32m   1169\u001b[0m \u001b[38;5;28mself\u001b[39m\u001b[38;5;241m.\u001b[39m_fileobj\u001b[38;5;241m.\u001b[39mwrite(data)\n",
      "\u001b[1;31mKeyboardInterrupt\u001b[0m: "
     ]
    }
   ],
   "source": [
    "import pandas as pd\n",
    "\n",
    "output_xlsx_files = [\n",
    "    output_xlsx_breast_cancer, output_xlsx_lung_cancer, output_xlsx_colorectal_cancer, output_xlsx_prostate_cancer,\n",
    "    output_xlsx_stomach_cancer, output_xlsx_liver_cancer, output_xlsx_cervix_cancer, output_xlsx_oesophagus_cancer,\n",
    "    output_xlsx_thyroid_cancer, output_xlsx_bladder_cancer\n",
    "]\n",
    "\n",
    "cancer_types = [\"Breast\", \"Lung\", \"Colorectal\", \"Prostate\", \"Stomach\", \"Liver\", \"Cervix\", \"Oesophagus\", \"Thyroid\", \"Bladder\"]\n",
    "\n",
    "for i in range(len(cancer_types)):\n",
    "    data = {\n",
    "        'PMID': PMID_list1[i],\n",
    "        'TI': TI_list1[i],\n",
    "        'AB': AB_list1[i],\n",
    "        'Type': cancer_types[i]\n",
    "    }\n",
    "\n",
    "    df = pd.DataFrame(data)\n",
    "\n",
    "    df.to_excel(output_xlsx_files[i], index=False)"
   ]
  },
  {
   "cell_type": "code",
   "execution_count": null,
   "id": "f307da84",
   "metadata": {},
   "outputs": [],
   "source": [
    "dataframes = [\n",
    "    breast_df, lung_df, colorectal_df, prostate_df, stomach_df, liver_df, cervix_df, oesophagus_df, thyroid_df, bladder_df\n",
    "]\n",
    "\n",
    "for i in range(10):\n",
    "    dataframes[i] = pd.real_excel(output_xlsx_file[i], index_col = None)\n",
    "    print(output_xlsx_file[i])\n",
    "    print(dataframes[i].shape)\n",
    "    print(dataframe[i].head(10))"
   ]
  },
  {
   "cell_type": "code",
   "execution_count": null,
   "id": "4b524af8",
   "metadata": {},
   "outputs": [],
   "source": [
    "for i in range(10):\n",
    "    dataframes[i].fillna(\" \")"
   ]
  }
 ],
 "metadata": {
  "kernelspec": {
   "display_name": "Python 3 (ipykernel)",
   "language": "python",
   "name": "python3"
  },
  "language_info": {
   "codemirror_mode": {
    "name": "ipython",
    "version": 3
   },
   "file_extension": ".py",
   "mimetype": "text/x-python",
   "name": "python",
   "nbconvert_exporter": "python",
   "pygments_lexer": "ipython3",
   "version": "3.11.4"
  }
 },
 "nbformat": 4,
 "nbformat_minor": 5
}
